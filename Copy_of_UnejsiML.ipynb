{
  "nbformat": 4,
  "nbformat_minor": 0,
  "metadata": {
    "colab": {
      "provenance": [],
      "authorship_tag": "ABX9TyMz9VtUG4mBxXtwnCPNVvoB",
      "include_colab_link": true
    },
    "kernelspec": {
      "name": "python3",
      "display_name": "Python 3"
    },
    "language_info": {
      "name": "python"
    },
    "widgets": {
      "application/vnd.jupyter.widget-state+json": {
        "b2f2499e9bae43dfab71f56fbd8286f6": {
          "model_module": "catboost-widget",
          "model_name": "CatboostWidgetModel",
          "model_module_version": "^1.0.0",
          "state": {
            "_dom_classes": [],
            "_model_module": "catboost-widget",
            "_model_module_version": "^1.0.0",
            "_model_name": "CatboostWidgetModel",
            "_view_count": null,
            "_view_module": "catboost-widget",
            "_view_module_version": "^1.0.0",
            "_view_name": "CatboostWidgetView",
            "data": {
              "catboost_info": {
                "path": "catboost_info",
                "name": "catboost_info",
                "content": {
                  "passed_iterations": 499,
                  "total_iterations": 500,
                  "data": {
                    "iterations": [
                      {
                        "learn": [
                          127.7244821
                        ],
                        "iteration": 0,
                        "passed_time": 0.04611596912,
                        "remaining_time": 23.01186859,
                        "test": [
                          128.3790476
                        ]
                      },
                      {
                        "learn": [
                          121.6707515
                        ],
                        "iteration": 1,
                        "passed_time": 0.08212677987,
                        "remaining_time": 20.44956819,
                        "test": [
                          122.2827719
                        ]
                      },
                      {
                        "learn": [
                          115.9226086
                        ],
                        "iteration": 2,
                        "passed_time": 0.1118170785,
                        "remaining_time": 18.52436268,
                        "test": [
                          116.4940264
                        ]
                      },
                      {
                        "learn": [
                          110.4727373
                        ],
                        "iteration": 3,
                        "passed_time": 0.1424207709,
                        "remaining_time": 17.66017559,
                        "test": [
                          111.0045999
                        ]
                      },
                      {
                        "learn": [
                          105.321687
                        ],
                        "iteration": 4,
                        "passed_time": 0.1698530227,
                        "remaining_time": 16.81544925,
                        "test": [
                          105.8155563
                        ]
                      },
                      {
                        "learn": [
                          100.3192403
                        ],
                        "iteration": 5,
                        "passed_time": 0.1974227103,
                        "remaining_time": 16.25446981,
                        "test": [
                          100.7714167
                        ]
                      },
                      {
                        "learn": [
                          95.6960107
                        ],
                        "iteration": 6,
                        "passed_time": 0.2241958698,
                        "remaining_time": 15.78979483,
                        "test": [
                          96.11306824
                        ]
                      },
                      {
                        "learn": [
                          91.243318
                        ],
                        "iteration": 7,
                        "passed_time": 0.253493785,
                        "remaining_time": 15.58986778,
                        "test": [
                          91.62492149
                        ]
                      },
                      {
                        "learn": [
                          86.91441714
                        ],
                        "iteration": 8,
                        "passed_time": 0.2808202695,
                        "remaining_time": 15.32030582,
                        "test": [
                          87.27066849
                        ]
                      },
                      {
                        "learn": [
                          82.81331569
                        ],
                        "iteration": 9,
                        "passed_time": 0.3079054752,
                        "remaining_time": 15.08736829,
                        "test": [
                          83.14547391
                        ]
                      },
                      {
                        "learn": [
                          78.9639112
                        ],
                        "iteration": 10,
                        "passed_time": 0.3369607665,
                        "remaining_time": 14.97943771,
                        "test": [
                          79.25951718
                        ]
                      },
                      {
                        "learn": [
                          75.29393587
                        ],
                        "iteration": 11,
                        "passed_time": 0.3658218545,
                        "remaining_time": 14.87675542,
                        "test": [
                          75.56746549
                        ]
                      },
                      {
                        "learn": [
                          71.82878038
                        ],
                        "iteration": 12,
                        "passed_time": 0.3943026497,
                        "remaining_time": 14.77118388,
                        "test": [
                          72.07236112
                        ]
                      },
                      {
                        "learn": [
                          68.55166102
                        ],
                        "iteration": 13,
                        "passed_time": 0.4238335915,
                        "remaining_time": 14.71308039,
                        "test": [
                          68.76273433
                        ]
                      },
                      {
                        "learn": [
                          65.557483
                        ],
                        "iteration": 14,
                        "passed_time": 0.4506548567,
                        "remaining_time": 14.5711737,
                        "test": [
                          65.74505445
                        ]
                      },
                      {
                        "learn": [
                          62.57208341
                        ],
                        "iteration": 15,
                        "passed_time": 0.4785419798,
                        "remaining_time": 14.47589489,
                        "test": [
                          62.73879067
                        ]
                      },
                      {
                        "learn": [
                          59.77120714
                        ],
                        "iteration": 16,
                        "passed_time": 0.5090010028,
                        "remaining_time": 14.46161673,
                        "test": [
                          59.912161
                        ]
                      },
                      {
                        "learn": [
                          57.1254235
                        ],
                        "iteration": 17,
                        "passed_time": 0.5412390742,
                        "remaining_time": 14.49317965,
                        "test": [
                          57.23841502
                        ]
                      },
                      {
                        "learn": [
                          54.69659039
                        ],
                        "iteration": 18,
                        "passed_time": 0.5712737262,
                        "remaining_time": 14.46224538,
                        "test": [
                          54.78747838
                        ]
                      },
                      {
                        "learn": [
                          52.31722081
                        ],
                        "iteration": 19,
                        "passed_time": 0.6008854285,
                        "remaining_time": 14.42125028,
                        "test": [
                          52.38608445
                        ]
                      },
                      {
                        "learn": [
                          50.0775239
                        ],
                        "iteration": 20,
                        "passed_time": 0.6273276759,
                        "remaining_time": 14.30904556,
                        "test": [
                          50.12558214
                        ]
                      },
                      {
                        "learn": [
                          47.95713101
                        ],
                        "iteration": 21,
                        "passed_time": 0.6537377181,
                        "remaining_time": 14.20393769,
                        "test": [
                          47.98635806
                        ]
                      },
                      {
                        "learn": [
                          45.92606889
                        ],
                        "iteration": 22,
                        "passed_time": 0.6825764204,
                        "remaining_time": 14.15604141,
                        "test": [
                          45.94453853
                        ]
                      },
                      {
                        "learn": [
                          43.99087472
                        ],
                        "iteration": 23,
                        "passed_time": 0.7116556115,
                        "remaining_time": 14.11450296,
                        "test": [
                          43.99543299
                        ]
                      },
                      {
                        "learn": [
                          42.17968962
                        ],
                        "iteration": 24,
                        "passed_time": 0.7437053728,
                        "remaining_time": 14.13040208,
                        "test": [
                          42.17040771
                        ]
                      },
                      {
                        "learn": [
                          40.48624633
                        ],
                        "iteration": 25,
                        "passed_time": 0.7723869511,
                        "remaining_time": 14.08120826,
                        "test": [
                          40.46188996
                        ]
                      },
                      {
                        "learn": [
                          38.8933214
                        ],
                        "iteration": 26,
                        "passed_time": 0.7989547918,
                        "remaining_time": 13.99650432,
                        "test": [
                          38.85187101
                        ]
                      },
                      {
                        "learn": [
                          37.37186016
                        ],
                        "iteration": 27,
                        "passed_time": 0.8264852701,
                        "remaining_time": 13.93218027,
                        "test": [
                          37.31926919
                        ]
                      },
                      {
                        "learn": [
                          35.92463109
                        ],
                        "iteration": 28,
                        "passed_time": 0.854933805,
                        "remaining_time": 13.88530421,
                        "test": [
                          35.86013719
                        ]
                      },
                      {
                        "learn": [
                          34.56240299
                        ],
                        "iteration": 29,
                        "passed_time": 0.8825917207,
                        "remaining_time": 13.82727029,
                        "test": [
                          34.48765492
                        ]
                      },
                      {
                        "learn": [
                          33.28977873
                        ],
                        "iteration": 30,
                        "passed_time": 0.9093438355,
                        "remaining_time": 13.75749222,
                        "test": [
                          33.19383463
                        ]
                      },
                      {
                        "learn": [
                          32.05395769
                        ],
                        "iteration": 31,
                        "passed_time": 0.9361582863,
                        "remaining_time": 13.69131494,
                        "test": [
                          31.94275137
                        ]
                      },
                      {
                        "learn": [
                          30.89661963
                        ],
                        "iteration": 32,
                        "passed_time": 0.9650611824,
                        "remaining_time": 13.65707795,
                        "test": [
                          30.7772969
                        ]
                      },
                      {
                        "learn": [
                          29.80517854
                        ],
                        "iteration": 33,
                        "passed_time": 0.9929966303,
                        "remaining_time": 13.60989499,
                        "test": [
                          29.67151214
                        ]
                      },
                      {
                        "learn": [
                          28.79700169
                        ],
                        "iteration": 34,
                        "passed_time": 1.023178964,
                        "remaining_time": 13.59366337,
                        "test": [
                          28.64249792
                        ]
                      },
                      {
                        "learn": [
                          27.82476879
                        ],
                        "iteration": 35,
                        "passed_time": 1.050569853,
                        "remaining_time": 13.54067811,
                        "test": [
                          27.66046674
                        ]
                      },
                      {
                        "learn": [
                          26.92443871
                        ],
                        "iteration": 36,
                        "passed_time": 1.100654299,
                        "remaining_time": 13.77305245,
                        "test": [
                          26.75814033
                        ]
                      },
                      {
                        "learn": [
                          26.06137942
                        ],
                        "iteration": 37,
                        "passed_time": 1.133406395,
                        "remaining_time": 13.77983565,
                        "test": [
                          25.88270805
                        ]
                      },
                      {
                        "learn": [
                          25.25706842
                        ],
                        "iteration": 38,
                        "passed_time": 1.160785379,
                        "remaining_time": 13.72107846,
                        "test": [
                          25.06647727
                        ]
                      },
                      {
                        "learn": [
                          24.50289691
                        ],
                        "iteration": 39,
                        "passed_time": 1.18945262,
                        "remaining_time": 13.67870513,
                        "test": [
                          24.30432813
                        ]
                      },
                      {
                        "learn": [
                          23.80302515
                        ],
                        "iteration": 40,
                        "passed_time": 1.217486894,
                        "remaining_time": 13.62991425,
                        "test": [
                          23.59341577
                        ]
                      },
                      {
                        "learn": [
                          23.14789328
                        ],
                        "iteration": 41,
                        "passed_time": 1.244990365,
                        "remaining_time": 13.57632351,
                        "test": [
                          22.93114806
                        ]
                      },
                      {
                        "learn": [
                          22.54148401
                        ],
                        "iteration": 42,
                        "passed_time": 1.27211454,
                        "remaining_time": 13.51991499,
                        "test": [
                          22.3146066
                        ]
                      },
                      {
                        "learn": [
                          21.9657568
                        ],
                        "iteration": 43,
                        "passed_time": 1.301288849,
                        "remaining_time": 13.48608443,
                        "test": [
                          21.73695913
                        ]
                      },
                      {
                        "learn": [
                          21.43627593
                        ],
                        "iteration": 44,
                        "passed_time": 1.328845043,
                        "remaining_time": 13.43609988,
                        "test": [
                          21.20227809
                        ]
                      },
                      {
                        "learn": [
                          20.93999936
                        ],
                        "iteration": 45,
                        "passed_time": 1.35840581,
                        "remaining_time": 13.40687474,
                        "test": [
                          20.70491648
                        ]
                      },
                      {
                        "learn": [
                          20.4581652
                        ],
                        "iteration": 46,
                        "passed_time": 1.387027239,
                        "remaining_time": 13.36858168,
                        "test": [
                          20.21846833
                        ]
                      },
                      {
                        "learn": [
                          20.04308233
                        ],
                        "iteration": 47,
                        "passed_time": 1.413381295,
                        "remaining_time": 13.30934053,
                        "test": [
                          19.80472107
                        ]
                      },
                      {
                        "learn": [
                          19.58978374
                        ],
                        "iteration": 48,
                        "passed_time": 1.441932975,
                        "remaining_time": 13.27166881,
                        "test": [
                          19.34217722
                        ]
                      },
                      {
                        "learn": [
                          19.20008986
                        ],
                        "iteration": 49,
                        "passed_time": 1.468743101,
                        "remaining_time": 13.21868791,
                        "test": [
                          18.9410589
                        ]
                      },
                      {
                        "learn": [
                          18.82535848
                        ],
                        "iteration": 50,
                        "passed_time": 1.496140706,
                        "remaining_time": 13.17190543,
                        "test": [
                          18.56351252
                        ]
                      },
                      {
                        "learn": [
                          18.46962362
                        ],
                        "iteration": 51,
                        "passed_time": 1.52785911,
                        "remaining_time": 13.16309387,
                        "test": [
                          18.20088131
                        ]
                      },
                      {
                        "learn": [
                          18.11278591
                        ],
                        "iteration": 52,
                        "passed_time": 1.55784016,
                        "remaining_time": 13.13876512,
                        "test": [
                          17.85095271
                        ]
                      },
                      {
                        "learn": [
                          17.80364195
                        ],
                        "iteration": 53,
                        "passed_time": 1.584774891,
                        "remaining_time": 13.08906669,
                        "test": [
                          17.54699422
                        ]
                      },
                      {
                        "learn": [
                          17.51737125
                        ],
                        "iteration": 54,
                        "passed_time": 1.610310491,
                        "remaining_time": 13.02887579,
                        "test": [
                          17.25331643
                        ]
                      },
                      {
                        "learn": [
                          17.24412203
                        ],
                        "iteration": 55,
                        "passed_time": 1.636831988,
                        "remaining_time": 12.97773933,
                        "test": [
                          16.97489585
                        ]
                      },
                      {
                        "learn": [
                          16.98939433
                        ],
                        "iteration": 56,
                        "passed_time": 1.66344548,
                        "remaining_time": 12.92818154,
                        "test": [
                          16.71711681
                        ]
                      },
                      {
                        "learn": [
                          16.75211487
                        ],
                        "iteration": 57,
                        "passed_time": 1.691902263,
                        "remaining_time": 12.89346207,
                        "test": [
                          16.48446143
                        ]
                      },
                      {
                        "learn": [
                          16.52422736
                        ],
                        "iteration": 58,
                        "passed_time": 1.720512992,
                        "remaining_time": 12.86010558,
                        "test": [
                          16.25631035
                        ]
                      },
                      {
                        "learn": [
                          16.2456458
                        ],
                        "iteration": 59,
                        "passed_time": 1.750790656,
                        "remaining_time": 12.83913148,
                        "test": [
                          15.98509718
                        ]
                      },
                      {
                        "learn": [
                          16.04330096
                        ],
                        "iteration": 60,
                        "passed_time": 1.776006158,
                        "remaining_time": 12.78142137,
                        "test": [
                          15.77987935
                        ]
                      },
                      {
                        "learn": [
                          15.8625445
                        ],
                        "iteration": 61,
                        "passed_time": 1.801517613,
                        "remaining_time": 12.72685024,
                        "test": [
                          15.59578659
                        ]
                      },
                      {
                        "learn": [
                          15.65650673
                        ],
                        "iteration": 62,
                        "passed_time": 1.826389828,
                        "remaining_time": 12.66876754,
                        "test": [
                          15.39893287
                        ]
                      },
                      {
                        "learn": [
                          15.45423559
                        ],
                        "iteration": 63,
                        "passed_time": 1.854691354,
                        "remaining_time": 12.63508485,
                        "test": [
                          15.20242477
                        ]
                      },
                      {
                        "learn": [
                          15.26860968
                        ],
                        "iteration": 64,
                        "passed_time": 1.879317643,
                        "remaining_time": 12.57697192,
                        "test": [
                          15.02071215
                        ]
                      },
                      {
                        "learn": [
                          15.10839005
                        ],
                        "iteration": 65,
                        "passed_time": 1.904078362,
                        "remaining_time": 12.52075771,
                        "test": [
                          14.86663497
                        ]
                      },
                      {
                        "learn": [
                          14.90359376
                        ],
                        "iteration": 66,
                        "passed_time": 1.93161248,
                        "remaining_time": 12.48340603,
                        "test": [
                          14.66935405
                        ]
                      },
                      {
                        "learn": [
                          14.74770316
                        ],
                        "iteration": 67,
                        "passed_time": 1.956077848,
                        "remaining_time": 12.4268475,
                        "test": [
                          14.5198251
                        ]
                      },
                      {
                        "learn": [
                          14.56690485
                        ],
                        "iteration": 68,
                        "passed_time": 1.983913301,
                        "remaining_time": 12.39227004,
                        "test": [
                          14.34610404
                        ]
                      },
                      {
                        "learn": [
                          14.40864929
                        ],
                        "iteration": 69,
                        "passed_time": 2.0138709,
                        "remaining_time": 12.37092124,
                        "test": [
                          14.19039393
                        ]
                      },
                      {
                        "learn": [
                          14.26589872
                        ],
                        "iteration": 70,
                        "passed_time": 2.040335563,
                        "remaining_time": 12.32822474,
                        "test": [
                          14.05513571
                        ]
                      },
                      {
                        "learn": [
                          14.13522797
                        ],
                        "iteration": 71,
                        "passed_time": 2.067196294,
                        "remaining_time": 12.28833352,
                        "test": [
                          13.92948541
                        ]
                      },
                      {
                        "learn": [
                          14.01086469
                        ],
                        "iteration": 72,
                        "passed_time": 2.111136677,
                        "remaining_time": 12.34870358,
                        "test": [
                          13.80631224
                        ]
                      },
                      {
                        "learn": [
                          13.89554021
                        ],
                        "iteration": 73,
                        "passed_time": 2.143968411,
                        "remaining_time": 12.34230464,
                        "test": [
                          13.6945736
                        ]
                      },
                      {
                        "learn": [
                          13.78481245
                        ],
                        "iteration": 74,
                        "passed_time": 2.169540775,
                        "remaining_time": 12.29406439,
                        "test": [
                          13.58800832
                        ]
                      },
                      {
                        "learn": [
                          13.68159701
                        ],
                        "iteration": 75,
                        "passed_time": 2.194539401,
                        "remaining_time": 12.24321982,
                        "test": [
                          13.48679747
                        ]
                      },
                      {
                        "learn": [
                          13.54935811
                        ],
                        "iteration": 76,
                        "passed_time": 2.221954398,
                        "remaining_time": 12.20632092,
                        "test": [
                          13.36128148
                        ]
                      },
                      {
                        "learn": [
                          13.42699452
                        ],
                        "iteration": 77,
                        "passed_time": 2.249160965,
                        "remaining_time": 12.16853753,
                        "test": [
                          13.2339183
                        ]
                      },
                      {
                        "learn": [
                          13.33587086
                        ],
                        "iteration": 78,
                        "passed_time": 2.274814221,
                        "remaining_time": 12.12274414,
                        "test": [
                          13.14244239
                        ]
                      },
                      {
                        "learn": [
                          13.25251457
                        ],
                        "iteration": 79,
                        "passed_time": 2.300323248,
                        "remaining_time": 12.07669705,
                        "test": [
                          13.06096326
                        ]
                      },
                      {
                        "learn": [
                          13.16431825
                        ],
                        "iteration": 80,
                        "passed_time": 2.32735644,
                        "remaining_time": 12.03904134,
                        "test": [
                          12.97719937
                        ]
                      },
                      {
                        "learn": [
                          13.06464799
                        ],
                        "iteration": 81,
                        "passed_time": 2.354472469,
                        "remaining_time": 12.00206697,
                        "test": [
                          12.87831571
                        ]
                      },
                      {
                        "learn": [
                          12.97675489
                        ],
                        "iteration": 82,
                        "passed_time": 2.380038616,
                        "remaining_time": 11.95754341,
                        "test": [
                          12.78407482
                        ]
                      },
                      {
                        "learn": [
                          12.89099531
                        ],
                        "iteration": 83,
                        "passed_time": 2.405175184,
                        "remaining_time": 11.91134377,
                        "test": [
                          12.69968736
                        ]
                      },
                      {
                        "learn": [
                          12.81896469
                        ],
                        "iteration": 84,
                        "passed_time": 2.428957156,
                        "remaining_time": 11.85902612,
                        "test": [
                          12.62807179
                        ]
                      },
                      {
                        "learn": [
                          12.74487119
                        ],
                        "iteration": 85,
                        "passed_time": 2.454741509,
                        "remaining_time": 11.81701145,
                        "test": [
                          12.55571321
                        ]
                      },
                      {
                        "learn": [
                          12.68153342
                        ],
                        "iteration": 86,
                        "passed_time": 2.478291895,
                        "remaining_time": 11.76476497,
                        "test": [
                          12.49179258
                        ]
                      },
                      {
                        "learn": [
                          12.61358371
                        ],
                        "iteration": 87,
                        "passed_time": 2.505169054,
                        "remaining_time": 11.72874603,
                        "test": [
                          12.42410097
                        ]
                      },
                      {
                        "learn": [
                          12.55292607
                        ],
                        "iteration": 88,
                        "passed_time": 2.535903298,
                        "remaining_time": 11.71074444,
                        "test": [
                          12.36736097
                        ]
                      },
                      {
                        "learn": [
                          12.47180183
                        ],
                        "iteration": 89,
                        "passed_time": 2.562463578,
                        "remaining_time": 11.67344519,
                        "test": [
                          12.28953139
                        ]
                      },
                      {
                        "learn": [
                          12.41459098
                        ],
                        "iteration": 90,
                        "passed_time": 2.587739338,
                        "remaining_time": 11.63060867,
                        "test": [
                          12.23533724
                        ]
                      },
                      {
                        "learn": [
                          12.34556532
                        ],
                        "iteration": 91,
                        "passed_time": 2.613581857,
                        "remaining_time": 11.59066737,
                        "test": [
                          12.1711975
                        ]
                      },
                      {
                        "learn": [
                          12.29681178
                        ],
                        "iteration": 92,
                        "passed_time": 2.635277658,
                        "remaining_time": 11.53288179,
                        "test": [
                          12.12286965
                        ]
                      },
                      {
                        "learn": [
                          12.18401884
                        ],
                        "iteration": 93,
                        "passed_time": 2.663431071,
                        "remaining_time": 11.50375547,
                        "test": [
                          12.02195933
                        ]
                      },
                      {
                        "learn": [
                          12.13809246
                        ],
                        "iteration": 94,
                        "passed_time": 2.688345845,
                        "remaining_time": 11.46084281,
                        "test": [
                          11.97486006
                        ]
                      },
                      {
                        "learn": [
                          12.03405371
                        ],
                        "iteration": 95,
                        "passed_time": 2.715966145,
                        "remaining_time": 11.42969086,
                        "test": [
                          11.88101042
                        ]
                      },
                      {
                        "learn": [
                          11.98391247
                        ],
                        "iteration": 96,
                        "passed_time": 2.741784491,
                        "remaining_time": 11.39112525,
                        "test": [
                          11.83204644
                        ]
                      },
                      {
                        "learn": [
                          11.93312823
                        ],
                        "iteration": 97,
                        "passed_time": 2.764864777,
                        "remaining_time": 11.34158817,
                        "test": [
                          11.78505866
                        ]
                      },
                      {
                        "learn": [
                          11.88035435
                        ],
                        "iteration": 98,
                        "passed_time": 2.788178557,
                        "remaining_time": 11.29353133,
                        "test": [
                          11.72941961
                        ]
                      },
                      {
                        "learn": [
                          11.8071451
                        ],
                        "iteration": 99,
                        "passed_time": 2.813362509,
                        "remaining_time": 11.25345003,
                        "test": [
                          11.66373381
                        ]
                      },
                      {
                        "learn": [
                          11.76508461
                        ],
                        "iteration": 100,
                        "passed_time": 2.837218319,
                        "remaining_time": 11.20841692,
                        "test": [
                          11.62433458
                        ]
                      },
                      {
                        "learn": [
                          11.72688088
                        ],
                        "iteration": 101,
                        "passed_time": 2.861388903,
                        "remaining_time": 11.16502729,
                        "test": [
                          11.58836981
                        ]
                      },
                      {
                        "learn": [
                          11.65534198
                        ],
                        "iteration": 102,
                        "passed_time": 2.888919781,
                        "remaining_time": 11.13496265,
                        "test": [
                          11.51832982
                        ]
                      },
                      {
                        "learn": [
                          11.59824236
                        ],
                        "iteration": 103,
                        "passed_time": 2.912352186,
                        "remaining_time": 11.08934101,
                        "test": [
                          11.46608146
                        ]
                      },
                      {
                        "learn": [
                          11.55178525
                        ],
                        "iteration": 104,
                        "passed_time": 2.936361079,
                        "remaining_time": 11.04631072,
                        "test": [
                          11.41849503
                        ]
                      },
                      {
                        "learn": [
                          11.51061935
                        ],
                        "iteration": 105,
                        "passed_time": 2.959901226,
                        "remaining_time": 11.00189701,
                        "test": [
                          11.38186946
                        ]
                      },
                      {
                        "learn": [
                          11.46662918
                        ],
                        "iteration": 106,
                        "passed_time": 2.984814963,
                        "remaining_time": 10.96291851,
                        "test": [
                          11.34015214
                        ]
                      },
                      {
                        "learn": [
                          11.37735973
                        ],
                        "iteration": 107,
                        "passed_time": 3.014666454,
                        "remaining_time": 10.94212268,
                        "test": [
                          11.25648908
                        ]
                      },
                      {
                        "learn": [
                          11.32958865
                        ],
                        "iteration": 108,
                        "passed_time": 3.042346768,
                        "remaining_time": 10.91337235,
                        "test": [
                          11.21293079
                        ]
                      },
                      {
                        "learn": [
                          11.28048179
                        ],
                        "iteration": 109,
                        "passed_time": 3.067846722,
                        "remaining_time": 10.8769111,
                        "test": [
                          11.1612432
                        ]
                      },
                      {
                        "learn": [
                          11.24359071
                        ],
                        "iteration": 110,
                        "passed_time": 3.093459349,
                        "remaining_time": 10.84104222,
                        "test": [
                          11.12632561
                        ]
                      },
                      {
                        "learn": [
                          11.18752186
                        ],
                        "iteration": 111,
                        "passed_time": 3.123343472,
                        "remaining_time": 10.82015417,
                        "test": [
                          11.07635464
                        ]
                      },
                      {
                        "learn": [
                          11.1338443
                        ],
                        "iteration": 112,
                        "passed_time": 3.157054348,
                        "remaining_time": 10.81221268,
                        "test": [
                          11.02408012
                        ]
                      },
                      {
                        "learn": [
                          11.09278292
                        ],
                        "iteration": 113,
                        "passed_time": 3.187493122,
                        "remaining_time": 10.79273987,
                        "test": [
                          10.98688813
                        ]
                      },
                      {
                        "learn": [
                          11.05574402
                        ],
                        "iteration": 114,
                        "passed_time": 3.210362824,
                        "remaining_time": 10.74773641,
                        "test": [
                          10.95158821
                        ]
                      },
                      {
                        "learn": [
                          11.00451029
                        ],
                        "iteration": 115,
                        "passed_time": 3.235144836,
                        "remaining_time": 10.70944498,
                        "test": [
                          10.9039858
                        ]
                      },
                      {
                        "learn": [
                          10.92142076
                        ],
                        "iteration": 116,
                        "passed_time": 3.261739508,
                        "remaining_time": 10.67731822,
                        "test": [
                          10.82692861
                        ]
                      },
                      {
                        "learn": [
                          10.885148
                        ],
                        "iteration": 117,
                        "passed_time": 3.285449464,
                        "remaining_time": 10.63594657,
                        "test": [
                          10.79524656
                        ]
                      },
                      {
                        "learn": [
                          10.84399541
                        ],
                        "iteration": 118,
                        "passed_time": 3.310177055,
                        "remaining_time": 10.5981299,
                        "test": [
                          10.75865899
                        ]
                      },
                      {
                        "learn": [
                          10.79970468
                        ],
                        "iteration": 119,
                        "passed_time": 3.334261512,
                        "remaining_time": 10.55849479,
                        "test": [
                          10.719364
                        ]
                      },
                      {
                        "learn": [
                          10.76888256
                        ],
                        "iteration": 120,
                        "passed_time": 3.358371501,
                        "remaining_time": 10.51919668,
                        "test": [
                          10.69153099
                        ]
                      },
                      {
                        "learn": [
                          10.73419961
                        ],
                        "iteration": 121,
                        "passed_time": 3.382060148,
                        "remaining_time": 10.4788421,
                        "test": [
                          10.65828844
                        ]
                      },
                      {
                        "learn": [
                          10.69782568
                        ],
                        "iteration": 122,
                        "passed_time": 3.407297437,
                        "remaining_time": 10.44350515,
                        "test": [
                          10.62428731
                        ]
                      },
                      {
                        "learn": [
                          10.67258151
                        ],
                        "iteration": 123,
                        "passed_time": 3.429824156,
                        "remaining_time": 10.40011196,
                        "test": [
                          10.59958901
                        ]
                      },
                      {
                        "learn": [
                          10.58332021
                        ],
                        "iteration": 124,
                        "passed_time": 3.45781439,
                        "remaining_time": 10.37344317,
                        "test": [
                          10.51683231
                        ]
                      },
                      {
                        "learn": [
                          10.53116543
                        ],
                        "iteration": 125,
                        "passed_time": 3.484364762,
                        "remaining_time": 10.34247953,
                        "test": [
                          10.46513455
                        ]
                      },
                      {
                        "learn": [
                          10.49540553
                        ],
                        "iteration": 126,
                        "passed_time": 3.509361197,
                        "remaining_time": 10.30702147,
                        "test": [
                          10.43284118
                        ]
                      },
                      {
                        "learn": [
                          10.4707026
                        ],
                        "iteration": 127,
                        "passed_time": 3.544248887,
                        "remaining_time": 10.30047333,
                        "test": [
                          10.40788704
                        ]
                      },
                      {
                        "learn": [
                          10.41948894
                        ],
                        "iteration": 128,
                        "passed_time": 3.569296997,
                        "remaining_time": 10.26518749,
                        "test": [
                          10.35781612
                        ]
                      },
                      {
                        "learn": [
                          10.38936563
                        ],
                        "iteration": 129,
                        "passed_time": 3.5918328,
                        "remaining_time": 10.22290874,
                        "test": [
                          10.33262143
                        ]
                      },
                      {
                        "learn": [
                          10.33421183
                        ],
                        "iteration": 130,
                        "passed_time": 3.617702486,
                        "remaining_time": 10.19032227,
                        "test": [
                          10.27594854
                        ]
                      },
                      {
                        "learn": [
                          10.30892478
                        ],
                        "iteration": 131,
                        "passed_time": 3.640666647,
                        "remaining_time": 10.14973732,
                        "test": [
                          10.24861808
                        ]
                      },
                      {
                        "learn": [
                          10.26508938
                        ],
                        "iteration": 132,
                        "passed_time": 3.666312683,
                        "remaining_time": 10.1168177,
                        "test": [
                          10.20850425
                        ]
                      },
                      {
                        "learn": [
                          10.23270047
                        ],
                        "iteration": 133,
                        "passed_time": 3.691037655,
                        "remaining_time": 10.08149091,
                        "test": [
                          10.18127982
                        ]
                      },
                      {
                        "learn": [
                          10.20120686
                        ],
                        "iteration": 134,
                        "passed_time": 3.715347996,
                        "remaining_time": 10.04520014,
                        "test": [
                          10.15215138
                        ]
                      },
                      {
                        "learn": [
                          10.16312774
                        ],
                        "iteration": 135,
                        "passed_time": 3.742746518,
                        "remaining_time": 10.01735097,
                        "test": [
                          10.1155585
                        ]
                      },
                      {
                        "learn": [
                          10.13813061
                        ],
                        "iteration": 136,
                        "passed_time": 3.766853542,
                        "remaining_time": 9.980787122,
                        "test": [
                          10.09286975
                        ]
                      },
                      {
                        "learn": [
                          10.10050477
                        ],
                        "iteration": 137,
                        "passed_time": 3.791780331,
                        "remaining_time": 9.946554201,
                        "test": [
                          10.05368753
                        ]
                      },
                      {
                        "learn": [
                          10.07921605
                        ],
                        "iteration": 138,
                        "passed_time": 3.814307425,
                        "remaining_time": 9.906222882,
                        "test": [
                          10.03572207
                        ]
                      },
                      {
                        "learn": [
                          10.04897777
                        ],
                        "iteration": 139,
                        "passed_time": 3.840431373,
                        "remaining_time": 9.875394959,
                        "test": [
                          10.00782601
                        ]
                      },
                      {
                        "learn": [
                          9.987421783
                        ],
                        "iteration": 140,
                        "passed_time": 3.866706225,
                        "remaining_time": 9.845017978,
                        "test": [
                          9.950479017
                        ]
                      },
                      {
                        "learn": [
                          9.961657127
                        ],
                        "iteration": 141,
                        "passed_time": 3.890211858,
                        "remaining_time": 9.80771722,
                        "test": [
                          9.926083856
                        ]
                      },
                      {
                        "learn": [
                          9.898955979
                        ],
                        "iteration": 142,
                        "passed_time": 3.916304614,
                        "remaining_time": 9.777068162,
                        "test": [
                          9.867790806
                        ]
                      },
                      {
                        "learn": [
                          9.877468354
                        ],
                        "iteration": 143,
                        "passed_time": 3.940346636,
                        "remaining_time": 9.741412517,
                        "test": [
                          9.847128654
                        ]
                      },
                      {
                        "learn": [
                          9.837055957
                        ],
                        "iteration": 144,
                        "passed_time": 3.965081666,
                        "remaining_time": 9.707613733,
                        "test": [
                          9.812019479
                        ]
                      },
                      {
                        "learn": [
                          9.775140279
                        ],
                        "iteration": 145,
                        "passed_time": 3.992556312,
                        "remaining_time": 9.680581742,
                        "test": [
                          9.755782807
                        ]
                      },
                      {
                        "learn": [
                          9.746611502
                        ],
                        "iteration": 146,
                        "passed_time": 4.018345161,
                        "remaining_time": 9.649495522,
                        "test": [
                          9.7281464
                        ]
                      },
                      {
                        "learn": [
                          9.724521196
                        ],
                        "iteration": 147,
                        "passed_time": 4.042520466,
                        "remaining_time": 9.614643271,
                        "test": [
                          9.708448306
                        ]
                      },
                      {
                        "learn": [
                          9.698911391
                        ],
                        "iteration": 148,
                        "passed_time": 4.06616718,
                        "remaining_time": 9.578689129,
                        "test": [
                          9.685877077
                        ]
                      },
                      {
                        "learn": [
                          9.673923873
                        ],
                        "iteration": 149,
                        "passed_time": 4.089700816,
                        "remaining_time": 9.542635238,
                        "test": [
                          9.664160253
                        ]
                      },
                      {
                        "learn": [
                          9.657173223
                        ],
                        "iteration": 150,
                        "passed_time": 4.113299277,
                        "remaining_time": 9.506897005,
                        "test": [
                          9.648362366
                        ]
                      },
                      {
                        "learn": [
                          9.628452847
                        ],
                        "iteration": 151,
                        "passed_time": 4.141453338,
                        "remaining_time": 9.481748432,
                        "test": [
                          9.622399854
                        ]
                      },
                      {
                        "learn": [
                          9.6027587
                        ],
                        "iteration": 152,
                        "passed_time": 4.167134456,
                        "remaining_time": 9.450952002,
                        "test": [
                          9.596921828
                        ]
                      },
                      {
                        "learn": [
                          9.584054794
                        ],
                        "iteration": 153,
                        "passed_time": 4.206766314,
                        "remaining_time": 9.451565874,
                        "test": [
                          9.579074293
                        ]
                      },
                      {
                        "learn": [
                          9.56048895
                        ],
                        "iteration": 154,
                        "passed_time": 4.239735985,
                        "remaining_time": 9.436831708,
                        "test": [
                          9.556781882
                        ]
                      },
                      {
                        "learn": [
                          9.5420604
                        ],
                        "iteration": 155,
                        "passed_time": 4.263119909,
                        "remaining_time": 9.400725953,
                        "test": [
                          9.539908436
                        ]
                      },
                      {
                        "learn": [
                          9.492572609
                        ],
                        "iteration": 156,
                        "passed_time": 4.29077092,
                        "remaining_time": 9.374104621,
                        "test": [
                          9.496095654
                        ]
                      },
                      {
                        "learn": [
                          9.472099882
                        ],
                        "iteration": 157,
                        "passed_time": 4.318416446,
                        "remaining_time": 9.347458383,
                        "test": [
                          9.477572116
                        ]
                      },
                      {
                        "learn": [
                          9.448236404
                        ],
                        "iteration": 158,
                        "passed_time": 4.344862775,
                        "remaining_time": 9.318227713,
                        "test": [
                          9.453010949
                        ]
                      },
                      {
                        "learn": [
                          9.421569352
                        ],
                        "iteration": 159,
                        "passed_time": 4.370216829,
                        "remaining_time": 9.286710761,
                        "test": [
                          9.427363324
                        ]
                      },
                      {
                        "learn": [
                          9.399035162
                        ],
                        "iteration": 160,
                        "passed_time": 4.393486212,
                        "remaining_time": 9.250880906,
                        "test": [
                          9.406570756
                        ]
                      },
                      {
                        "learn": [
                          9.374446764
                        ],
                        "iteration": 161,
                        "passed_time": 4.41748428,
                        "remaining_time": 9.216726461,
                        "test": [
                          9.3835597
                        ]
                      },
                      {
                        "learn": [
                          9.350997901
                        ],
                        "iteration": 162,
                        "passed_time": 4.442525562,
                        "remaining_time": 9.184853463,
                        "test": [
                          9.360065604
                        ]
                      },
                      {
                        "learn": [
                          9.337691527
                        ],
                        "iteration": 163,
                        "passed_time": 4.464876242,
                        "remaining_time": 9.147551325,
                        "test": [
                          9.347718294
                        ]
                      },
                      {
                        "learn": [
                          9.31674045
                        ],
                        "iteration": 164,
                        "passed_time": 4.490050663,
                        "remaining_time": 9.116163467,
                        "test": [
                          9.328431817
                        ]
                      },
                      {
                        "learn": [
                          9.278439741
                        ],
                        "iteration": 165,
                        "passed_time": 4.515134797,
                        "remaining_time": 9.084668809,
                        "test": [
                          9.292098595
                        ]
                      },
                      {
                        "learn": [
                          9.239099543
                        ],
                        "iteration": 166,
                        "passed_time": 4.554826958,
                        "remaining_time": 9.082379503,
                        "test": [
                          9.255847791
                        ]
                      },
                      {
                        "learn": [
                          9.219472184
                        ],
                        "iteration": 167,
                        "passed_time": 4.5798006,
                        "remaining_time": 9.050558329,
                        "test": [
                          9.236916004
                        ]
                      },
                      {
                        "learn": [
                          9.207197202
                        ],
                        "iteration": 168,
                        "passed_time": 4.601911774,
                        "remaining_time": 9.013211817,
                        "test": [
                          9.225010402
                        ]
                      },
                      {
                        "learn": [
                          9.18579157
                        ],
                        "iteration": 169,
                        "passed_time": 4.626812613,
                        "remaining_time": 8.981459778,
                        "test": [
                          9.20568842
                        ]
                      },
                      {
                        "learn": [
                          9.158189323
                        ],
                        "iteration": 170,
                        "passed_time": 4.654435121,
                        "remaining_time": 8.955024297,
                        "test": [
                          9.181499793
                        ]
                      },
                      {
                        "learn": [
                          9.126864129
                        ],
                        "iteration": 171,
                        "passed_time": 4.682964625,
                        "remaining_time": 8.930304634,
                        "test": [
                          9.150190407
                        ]
                      },
                      {
                        "learn": [
                          9.096734916
                        ],
                        "iteration": 172,
                        "passed_time": 4.709770869,
                        "remaining_time": 8.902283666,
                        "test": [
                          9.119535853
                        ]
                      },
                      {
                        "learn": [
                          9.080388873
                        ],
                        "iteration": 173,
                        "passed_time": 4.73623181,
                        "remaining_time": 8.873629713,
                        "test": [
                          9.105301289
                        ]
                      },
                      {
                        "learn": [
                          9.035826217
                        ],
                        "iteration": 174,
                        "passed_time": 4.762475613,
                        "remaining_time": 8.844597566,
                        "test": [
                          9.063535446
                        ]
                      },
                      {
                        "learn": [
                          9.019934773
                        ],
                        "iteration": 175,
                        "passed_time": 4.78580492,
                        "remaining_time": 8.810231784,
                        "test": [
                          9.046992482
                        ]
                      },
                      {
                        "learn": [
                          9.005822938
                        ],
                        "iteration": 176,
                        "passed_time": 4.809717966,
                        "remaining_time": 8.777055949,
                        "test": [
                          9.03341681
                        ]
                      },
                      {
                        "learn": [
                          8.988436391
                        ],
                        "iteration": 177,
                        "passed_time": 4.835469885,
                        "remaining_time": 8.747310691,
                        "test": [
                          9.016737566
                        ]
                      },
                      {
                        "learn": [
                          8.97608029
                        ],
                        "iteration": 178,
                        "passed_time": 4.85861718,
                        "remaining_time": 8.712939188,
                        "test": [
                          9.006802951
                        ]
                      },
                      {
                        "learn": [
                          8.959234908
                        ],
                        "iteration": 179,
                        "passed_time": 4.883011545,
                        "remaining_time": 8.680909414,
                        "test": [
                          8.992036666
                        ]
                      },
                      {
                        "learn": [
                          8.942545878
                        ],
                        "iteration": 180,
                        "passed_time": 4.907791699,
                        "remaining_time": 8.649643933,
                        "test": [
                          8.975215788
                        ]
                      },
                      {
                        "learn": [
                          8.902226226
                        ],
                        "iteration": 181,
                        "passed_time": 4.933431106,
                        "remaining_time": 8.619951054,
                        "test": [
                          8.939350733
                        ]
                      },
                      {
                        "learn": [
                          8.874914737
                        ],
                        "iteration": 182,
                        "passed_time": 4.958147726,
                        "remaining_time": 8.588703985,
                        "test": [
                          8.91588975
                        ]
                      },
                      {
                        "learn": [
                          8.84673009
                        ],
                        "iteration": 183,
                        "passed_time": 4.983831919,
                        "remaining_time": 8.5591896,
                        "test": [
                          8.88630584
                        ]
                      },
                      {
                        "learn": [
                          8.81825185
                        ],
                        "iteration": 184,
                        "passed_time": 5.008994926,
                        "remaining_time": 8.528829198,
                        "test": [
                          8.858068364
                        ]
                      },
                      {
                        "learn": [
                          8.803743415
                        ],
                        "iteration": 185,
                        "passed_time": 5.033757711,
                        "remaining_time": 8.49784904,
                        "test": [
                          8.845658289
                        ]
                      },
                      {
                        "learn": [
                          8.775469906
                        ],
                        "iteration": 186,
                        "passed_time": 5.059697071,
                        "remaining_time": 8.468904723,
                        "test": [
                          8.819975636
                        ]
                      },
                      {
                        "learn": [
                          8.749699972
                        ],
                        "iteration": 187,
                        "passed_time": 5.085046556,
                        "remaining_time": 8.439013433,
                        "test": [
                          8.795231057
                        ]
                      },
                      {
                        "learn": [
                          8.736056531
                        ],
                        "iteration": 188,
                        "passed_time": 5.109094344,
                        "remaining_time": 8.40702826,
                        "test": [
                          8.78251399
                        ]
                      },
                      {
                        "learn": [
                          8.704400306
                        ],
                        "iteration": 189,
                        "passed_time": 5.13817038,
                        "remaining_time": 8.38333062,
                        "test": [
                          8.750486707
                        ]
                      },
                      {
                        "learn": [
                          8.691105933
                        ],
                        "iteration": 190,
                        "passed_time": 5.162172225,
                        "remaining_time": 8.351367631,
                        "test": [
                          8.734544611
                        ]
                      },
                      {
                        "learn": [
                          8.679477877
                        ],
                        "iteration": 191,
                        "passed_time": 5.186912102,
                        "remaining_time": 8.320671496,
                        "test": [
                          8.724636248
                        ]
                      },
                      {
                        "learn": [
                          8.661752207
                        ],
                        "iteration": 192,
                        "passed_time": 5.212078997,
                        "remaining_time": 8.290716332,
                        "test": [
                          8.707735291
                        ]
                      },
                      {
                        "learn": [
                          8.627022698
                        ],
                        "iteration": 193,
                        "passed_time": 5.261570374,
                        "remaining_time": 8.299178012,
                        "test": [
                          8.670959613
                        ]
                      },
                      {
                        "learn": [
                          8.609328856
                        ],
                        "iteration": 194,
                        "passed_time": 5.286399843,
                        "remaining_time": 8.26847155,
                        "test": [
                          8.651594831
                        ]
                      },
                      {
                        "learn": [
                          8.600951806
                        ],
                        "iteration": 195,
                        "passed_time": 5.308441326,
                        "remaining_time": 8.233500832,
                        "test": [
                          8.644549852
                        ]
                      },
                      {
                        "learn": [
                          8.572809859
                        ],
                        "iteration": 196,
                        "passed_time": 5.334053353,
                        "remaining_time": 8.204153127,
                        "test": [
                          8.615747075
                        ]
                      },
                      {
                        "learn": [
                          8.561421077
                        ],
                        "iteration": 197,
                        "passed_time": 5.357969932,
                        "remaining_time": 8.172257169,
                        "test": [
                          8.603398966
                        ]
                      },
                      {
                        "learn": [
                          8.540344197
                        ],
                        "iteration": 198,
                        "passed_time": 5.3829642,
                        "remaining_time": 8.142071478,
                        "test": [
                          8.581380144
                        ]
                      },
                      {
                        "learn": [
                          8.515828201
                        ],
                        "iteration": 199,
                        "passed_time": 5.407606167,
                        "remaining_time": 8.11140925,
                        "test": [
                          8.558779828
                        ]
                      },
                      {
                        "learn": [
                          8.492665887
                        ],
                        "iteration": 200,
                        "passed_time": 5.433621936,
                        "remaining_time": 8.082850541,
                        "test": [
                          8.53860722
                        ]
                      },
                      {
                        "learn": [
                          8.474710965
                        ],
                        "iteration": 201,
                        "passed_time": 5.461903271,
                        "remaining_time": 8.057659281,
                        "test": [
                          8.522115047
                        ]
                      },
                      {
                        "learn": [
                          8.44961851
                        ],
                        "iteration": 202,
                        "passed_time": 5.49030326,
                        "remaining_time": 8.032611173,
                        "test": [
                          8.496490206
                        ]
                      },
                      {
                        "learn": [
                          8.436110085
                        ],
                        "iteration": 203,
                        "passed_time": 5.515429044,
                        "remaining_time": 8.002779397,
                        "test": [
                          8.484766198
                        ]
                      },
                      {
                        "learn": [
                          8.408113174
                        ],
                        "iteration": 204,
                        "passed_time": 5.558362668,
                        "remaining_time": 7.99861945,
                        "test": [
                          8.458696992
                        ]
                      },
                      {
                        "learn": [
                          8.375093891
                        ],
                        "iteration": 205,
                        "passed_time": 5.584563939,
                        "remaining_time": 7.970202904,
                        "test": [
                          8.424013025
                        ]
                      },
                      {
                        "learn": [
                          8.365694305
                        ],
                        "iteration": 206,
                        "passed_time": 5.608700032,
                        "remaining_time": 7.938884587,
                        "test": [
                          8.416468463
                        ]
                      },
                      {
                        "learn": [
                          8.352459547
                        ],
                        "iteration": 207,
                        "passed_time": 5.633307923,
                        "remaining_time": 7.908297661,
                        "test": [
                          8.404190097
                        ]
                      },
                      {
                        "learn": [
                          8.342127708
                        ],
                        "iteration": 208,
                        "passed_time": 5.660729179,
                        "remaining_time": 7.881685125,
                        "test": [
                          8.394116099
                        ]
                      },
                      {
                        "learn": [
                          8.300936822
                        ],
                        "iteration": 209,
                        "passed_time": 5.69055098,
                        "remaining_time": 7.858379924,
                        "test": [
                          8.356949309
                        ]
                      },
                      {
                        "learn": [
                          8.263564071
                        ],
                        "iteration": 210,
                        "passed_time": 5.719514728,
                        "remaining_time": 7.833837708,
                        "test": [
                          8.322943847
                        ]
                      },
                      {
                        "learn": [
                          8.250105216
                        ],
                        "iteration": 211,
                        "passed_time": 5.743814446,
                        "remaining_time": 7.802917739,
                        "test": [
                          8.310715485
                        ]
                      },
                      {
                        "learn": [
                          8.231421922
                        ],
                        "iteration": 212,
                        "passed_time": 5.769320448,
                        "remaining_time": 7.773685298,
                        "test": [
                          8.293467736
                        ]
                      },
                      {
                        "learn": [
                          8.219182774
                        ],
                        "iteration": 213,
                        "passed_time": 5.794424755,
                        "remaining_time": 7.74395084,
                        "test": [
                          8.282333532
                        ]
                      },
                      {
                        "learn": [
                          8.196534644
                        ],
                        "iteration": 214,
                        "passed_time": 5.820779982,
                        "remaining_time": 7.715917651,
                        "test": [
                          8.260325918
                        ]
                      },
                      {
                        "learn": [
                          8.183872905
                        ],
                        "iteration": 215,
                        "passed_time": 5.846502111,
                        "remaining_time": 7.68706759,
                        "test": [
                          8.249797044
                        ]
                      },
                      {
                        "learn": [
                          8.164501078
                        ],
                        "iteration": 216,
                        "passed_time": 5.872130595,
                        "remaining_time": 7.658124232,
                        "test": [
                          8.233589537
                        ]
                      },
                      {
                        "learn": [
                          8.152144304
                        ],
                        "iteration": 217,
                        "passed_time": 5.900596173,
                        "remaining_time": 7.632881288,
                        "test": [
                          8.21986572
                        ]
                      },
                      {
                        "learn": [
                          8.140589237
                        ],
                        "iteration": 218,
                        "passed_time": 5.92579385,
                        "remaining_time": 7.603415853,
                        "test": [
                          8.209711222
                        ]
                      },
                      {
                        "learn": [
                          8.130591741
                        ],
                        "iteration": 219,
                        "passed_time": 5.950160859,
                        "remaining_time": 7.572932002,
                        "test": [
                          8.200950154
                        ]
                      },
                      {
                        "learn": [
                          8.118432704
                        ],
                        "iteration": 220,
                        "passed_time": 5.975385589,
                        "remaining_time": 7.543586332,
                        "test": [
                          8.189104445
                        ]
                      },
                      {
                        "learn": [
                          8.089783557
                        ],
                        "iteration": 221,
                        "passed_time": 6.005576612,
                        "remaining_time": 7.520496839,
                        "test": [
                          8.162454272
                        ]
                      },
                      {
                        "learn": [
                          8.074049342
                        ],
                        "iteration": 222,
                        "passed_time": 6.031042343,
                        "remaining_time": 7.491474121,
                        "test": [
                          8.148176688
                        ]
                      },
                      {
                        "learn": [
                          8.063394566
                        ],
                        "iteration": 223,
                        "passed_time": 6.055545462,
                        "remaining_time": 7.461297088,
                        "test": [
                          8.138512651
                        ]
                      },
                      {
                        "learn": [
                          8.05370837
                        ],
                        "iteration": 224,
                        "passed_time": 6.07932079,
                        "remaining_time": 7.430280965,
                        "test": [
                          8.129020835
                        ]
                      },
                      {
                        "learn": [
                          8.04416302
                        ],
                        "iteration": 225,
                        "passed_time": 6.104230245,
                        "remaining_time": 7.400703926,
                        "test": [
                          8.121059519
                        ]
                      },
                      {
                        "learn": [
                          8.024115674
                        ],
                        "iteration": 226,
                        "passed_time": 6.135682497,
                        "remaining_time": 7.37903666,
                        "test": [
                          8.099881254
                        ]
                      },
                      {
                        "learn": [
                          8.00648144
                        ],
                        "iteration": 227,
                        "passed_time": 6.163577873,
                        "remaining_time": 7.35304027,
                        "test": [
                          8.08378936
                        ]
                      },
                      {
                        "learn": [
                          7.994367894
                        ],
                        "iteration": 228,
                        "passed_time": 6.187666035,
                        "remaining_time": 7.322521814,
                        "test": [
                          8.070169964
                        ]
                      },
                      {
                        "learn": [
                          7.985171044
                        ],
                        "iteration": 229,
                        "passed_time": 6.214313871,
                        "remaining_time": 7.295064109,
                        "test": [
                          8.062110873
                        ]
                      },
                      {
                        "learn": [
                          7.974547821
                        ],
                        "iteration": 230,
                        "passed_time": 6.240302936,
                        "remaining_time": 7.266846276,
                        "test": [
                          8.052795798
                        ]
                      },
                      {
                        "learn": [
                          7.945721769
                        ],
                        "iteration": 231,
                        "passed_time": 6.289655175,
                        "remaining_time": 7.26563615,
                        "test": [
                          8.022588414
                        ]
                      },
                      {
                        "learn": [
                          7.921538416
                        ],
                        "iteration": 232,
                        "passed_time": 6.315433081,
                        "remaining_time": 7.236998423,
                        "test": [
                          8.001673538
                        ]
                      },
                      {
                        "learn": [
                          7.911498388
                        ],
                        "iteration": 233,
                        "passed_time": 6.339115675,
                        "remaining_time": 7.206003288,
                        "test": [
                          7.992098762
                        ]
                      },
                      {
                        "learn": [
                          7.89154096
                        ],
                        "iteration": 234,
                        "passed_time": 6.365998624,
                        "remaining_time": 7.1786793,
                        "test": [
                          7.973512163
                        ]
                      },
                      {
                        "learn": [
                          7.881751605
                        ],
                        "iteration": 235,
                        "passed_time": 6.39210516,
                        "remaining_time": 7.150490518,
                        "test": [
                          7.963024248
                        ]
                      },
                      {
                        "learn": [
                          7.852952062
                        ],
                        "iteration": 236,
                        "passed_time": 6.418331509,
                        "remaining_time": 7.122452266,
                        "test": [
                          7.931327498
                        ]
                      },
                      {
                        "learn": [
                          7.842711351
                        ],
                        "iteration": 237,
                        "passed_time": 6.443020838,
                        "remaining_time": 7.092737225,
                        "test": [
                          7.92237594
                        ]
                      },
                      {
                        "learn": [
                          7.833478872
                        ],
                        "iteration": 238,
                        "passed_time": 6.467655379,
                        "remaining_time": 7.063004409,
                        "test": [
                          7.912035187
                        ]
                      },
                      {
                        "learn": [
                          7.806907165
                        ],
                        "iteration": 239,
                        "passed_time": 6.493214075,
                        "remaining_time": 7.034315248,
                        "test": [
                          7.888762806
                        ]
                      },
                      {
                        "learn": [
                          7.790392941
                        ],
                        "iteration": 240,
                        "passed_time": 6.519895962,
                        "remaining_time": 7.006859146,
                        "test": [
                          7.874054862
                        ]
                      },
                      {
                        "learn": [
                          7.771813693
                        ],
                        "iteration": 241,
                        "passed_time": 6.5642706,
                        "remaining_time": 6.998271962,
                        "test": [
                          7.857064158
                        ]
                      },
                      {
                        "learn": [
                          7.765514546
                        ],
                        "iteration": 242,
                        "passed_time": 6.588354339,
                        "remaining_time": 6.96793031,
                        "test": [
                          7.850962073
                        ]
                      },
                      {
                        "learn": [
                          7.753459359
                        ],
                        "iteration": 243,
                        "passed_time": 6.612835997,
                        "remaining_time": 6.938057439,
                        "test": [
                          7.838213921
                        ]
                      },
                      {
                        "learn": [
                          7.740055465
                        ],
                        "iteration": 244,
                        "passed_time": 6.64022351,
                        "remaining_time": 6.911253041,
                        "test": [
                          7.826126804
                        ]
                      },
                      {
                        "learn": [
                          7.711393404
                        ],
                        "iteration": 245,
                        "passed_time": 6.668780558,
                        "remaining_time": 6.885651471,
                        "test": [
                          7.800468235
                        ]
                      },
                      {
                        "learn": [
                          7.694027242
                        ],
                        "iteration": 246,
                        "passed_time": 6.695175494,
                        "remaining_time": 6.857811336,
                        "test": [
                          7.783630852
                        ]
                      },
                      {
                        "learn": [
                          7.672998938
                        ],
                        "iteration": 247,
                        "passed_time": 6.723327279,
                        "remaining_time": 6.831768042,
                        "test": [
                          7.761429054
                        ]
                      },
                      {
                        "learn": [
                          7.653012388
                        ],
                        "iteration": 248,
                        "passed_time": 6.748539076,
                        "remaining_time": 6.802744209,
                        "test": [
                          7.741894903
                        ]
                      },
                      {
                        "learn": [
                          7.64387493
                        ],
                        "iteration": 249,
                        "passed_time": 6.772925271,
                        "remaining_time": 6.772925271,
                        "test": [
                          7.734824307
                        ]
                      },
                      {
                        "learn": [
                          7.636077466
                        ],
                        "iteration": 250,
                        "passed_time": 6.797859905,
                        "remaining_time": 6.743693691,
                        "test": [
                          7.727878213
                        ]
                      },
                      {
                        "learn": [
                          7.628275931
                        ],
                        "iteration": 251,
                        "passed_time": 6.822530203,
                        "remaining_time": 6.714236072,
                        "test": [
                          7.720037606
                        ]
                      },
                      {
                        "learn": [
                          7.621171345
                        ],
                        "iteration": 252,
                        "passed_time": 6.845592742,
                        "remaining_time": 6.683246669,
                        "test": [
                          7.713645855
                        ]
                      },
                      {
                        "learn": [
                          7.598894463
                        ],
                        "iteration": 253,
                        "passed_time": 6.870795881,
                        "remaining_time": 6.654392861,
                        "test": [
                          7.694654946
                        ]
                      },
                      {
                        "learn": [
                          7.581475948
                        ],
                        "iteration": 254,
                        "passed_time": 6.897667088,
                        "remaining_time": 6.627170339,
                        "test": [
                          7.678760078
                        ]
                      },
                      {
                        "learn": [
                          7.568174361
                        ],
                        "iteration": 255,
                        "passed_time": 6.923909229,
                        "remaining_time": 6.599350984,
                        "test": [
                          7.665170815
                        ]
                      },
                      {
                        "learn": [
                          7.55349698
                        ],
                        "iteration": 256,
                        "passed_time": 6.949949238,
                        "remaining_time": 6.571352782,
                        "test": [
                          7.651579747
                        ]
                      },
                      {
                        "learn": [
                          7.545562874
                        ],
                        "iteration": 257,
                        "passed_time": 6.977026008,
                        "remaining_time": 6.544342225,
                        "test": [
                          7.64396357
                        ]
                      },
                      {
                        "learn": [
                          7.537709737
                        ],
                        "iteration": 258,
                        "passed_time": 7.00652992,
                        "remaining_time": 6.519589617,
                        "test": [
                          7.636391061
                        ]
                      },
                      {
                        "learn": [
                          7.519841442
                        ],
                        "iteration": 259,
                        "passed_time": 7.031901233,
                        "remaining_time": 6.490985754,
                        "test": [
                          7.617397212
                        ]
                      },
                      {
                        "learn": [
                          7.49946558
                        ],
                        "iteration": 260,
                        "passed_time": 7.057546671,
                        "remaining_time": 6.46265768,
                        "test": [
                          7.599517403
                        ]
                      },
                      {
                        "learn": [
                          7.491805107
                        ],
                        "iteration": 261,
                        "passed_time": 7.08190698,
                        "remaining_time": 6.433182676,
                        "test": [
                          7.591915867
                        ]
                      },
                      {
                        "learn": [
                          7.485302545
                        ],
                        "iteration": 262,
                        "passed_time": 7.106611204,
                        "remaining_time": 6.404056484,
                        "test": [
                          7.584362456
                        ]
                      },
                      {
                        "learn": [
                          7.478195597
                        ],
                        "iteration": 263,
                        "passed_time": 7.133751823,
                        "remaining_time": 6.377141782,
                        "test": [
                          7.57797458
                        ]
                      },
                      {
                        "learn": [
                          7.469118845
                        ],
                        "iteration": 264,
                        "passed_time": 7.158903934,
                        "remaining_time": 6.348461979,
                        "test": [
                          7.569363331
                        ]
                      },
                      {
                        "learn": [
                          7.453975957
                        ],
                        "iteration": 265,
                        "passed_time": 7.183982357,
                        "remaining_time": 6.319743878,
                        "test": [
                          7.553340833
                        ]
                      },
                      {
                        "learn": [
                          7.442078961
                        ],
                        "iteration": 266,
                        "passed_time": 7.209366224,
                        "remaining_time": 6.291319588,
                        "test": [
                          7.542952762
                        ]
                      },
                      {
                        "learn": [
                          7.437930095
                        ],
                        "iteration": 267,
                        "passed_time": 7.233778531,
                        "remaining_time": 6.262076937,
                        "test": [
                          7.538793962
                        ]
                      },
                      {
                        "learn": [
                          7.426921121
                        ],
                        "iteration": 268,
                        "passed_time": 7.259543325,
                        "remaining_time": 6.234031629,
                        "test": [
                          7.529686788
                        ]
                      },
                      {
                        "learn": [
                          7.412619495
                        ],
                        "iteration": 269,
                        "passed_time": 7.300771296,
                        "remaining_time": 6.219175549,
                        "test": [
                          7.51733921
                        ]
                      },
                      {
                        "learn": [
                          7.407099827
                        ],
                        "iteration": 270,
                        "passed_time": 7.333552947,
                        "remaining_time": 6.196987545,
                        "test": [
                          7.510406052
                        ]
                      },
                      {
                        "learn": [
                          7.402977277
                        ],
                        "iteration": 271,
                        "passed_time": 7.356711259,
                        "remaining_time": 6.166655026,
                        "test": [
                          7.507533878
                        ]
                      },
                      {
                        "learn": [
                          7.390579062
                        ],
                        "iteration": 272,
                        "passed_time": 7.381614422,
                        "remaining_time": 6.137825911,
                        "test": [
                          7.494456502
                        ]
                      },
                      {
                        "learn": [
                          7.385877937
                        ],
                        "iteration": 273,
                        "passed_time": 7.405474841,
                        "remaining_time": 6.10816538,
                        "test": [
                          7.490048761
                        ]
                      },
                      {
                        "learn": [
                          7.379197559
                        ],
                        "iteration": 274,
                        "passed_time": 7.429618997,
                        "remaining_time": 6.078779179,
                        "test": [
                          7.4850334
                        ]
                      },
                      {
                        "learn": [
                          7.373543472
                        ],
                        "iteration": 275,
                        "passed_time": 7.454568293,
                        "remaining_time": 6.050084412,
                        "test": [
                          7.478339995
                        ]
                      },
                      {
                        "learn": [
                          7.353961955
                        ],
                        "iteration": 276,
                        "passed_time": 7.48254605,
                        "remaining_time": 6.023854762,
                        "test": [
                          7.45662476
                        ]
                      },
                      {
                        "learn": [
                          7.341300855
                        ],
                        "iteration": 277,
                        "passed_time": 7.507829544,
                        "remaining_time": 5.995461003,
                        "test": [
                          7.443275032
                        ]
                      },
                      {
                        "learn": [
                          7.330087791
                        ],
                        "iteration": 278,
                        "passed_time": 7.536579635,
                        "remaining_time": 5.969835481,
                        "test": [
                          7.433514225
                        ]
                      },
                      {
                        "learn": [
                          7.325283335
                        ],
                        "iteration": 279,
                        "passed_time": 7.574466369,
                        "remaining_time": 5.951366433,
                        "test": [
                          7.429508982
                        ]
                      },
                      {
                        "learn": [
                          7.313737462
                        ],
                        "iteration": 280,
                        "passed_time": 7.600532116,
                        "remaining_time": 5.923546382,
                        "test": [
                          7.418779571
                        ]
                      },
                      {
                        "learn": [
                          7.306968723
                        ],
                        "iteration": 281,
                        "passed_time": 7.627161573,
                        "remaining_time": 5.896174549,
                        "test": [
                          7.412528644
                        ]
                      },
                      {
                        "learn": [
                          7.286103809
                        ],
                        "iteration": 282,
                        "passed_time": 7.655740348,
                        "remaining_time": 5.87030267,
                        "test": [
                          7.393905123
                        ]
                      },
                      {
                        "learn": [
                          7.275580936
                        ],
                        "iteration": 283,
                        "passed_time": 7.680978655,
                        "remaining_time": 5.84187109,
                        "test": [
                          7.384561413
                        ]
                      },
                      {
                        "learn": [
                          7.266312364
                        ],
                        "iteration": 284,
                        "passed_time": 7.707720973,
                        "remaining_time": 5.814596524,
                        "test": [
                          7.376306171
                        ]
                      },
                      {
                        "learn": [
                          7.261636217
                        ],
                        "iteration": 285,
                        "passed_time": 7.731343018,
                        "remaining_time": 5.78499093,
                        "test": [
                          7.370389727
                        ]
                      },
                      {
                        "learn": [
                          7.248342645
                        ],
                        "iteration": 286,
                        "passed_time": 7.757359108,
                        "remaining_time": 5.757203798,
                        "test": [
                          7.35737572
                        ]
                      },
                      {
                        "learn": [
                          7.235346647
                        ],
                        "iteration": 287,
                        "passed_time": 7.783520109,
                        "remaining_time": 5.729535636,
                        "test": [
                          7.34412677
                        ]
                      },
                      {
                        "learn": [
                          7.228555086
                        ],
                        "iteration": 288,
                        "passed_time": 7.807778214,
                        "remaining_time": 5.700488592,
                        "test": [
                          7.337706503
                        ]
                      },
                      {
                        "learn": [
                          7.219870867
                        ],
                        "iteration": 289,
                        "passed_time": 7.834802262,
                        "remaining_time": 5.6734775,
                        "test": [
                          7.328678325
                        ]
                      },
                      {
                        "learn": [
                          7.213984047
                        ],
                        "iteration": 290,
                        "passed_time": 7.860298768,
                        "remaining_time": 5.645369218,
                        "test": [
                          7.323185065
                        ]
                      },
                      {
                        "learn": [
                          7.203845292
                        ],
                        "iteration": 291,
                        "passed_time": 7.886134308,
                        "remaining_time": 5.617520329,
                        "test": [
                          7.314707474
                        ]
                      },
                      {
                        "learn": [
                          7.198219019
                        ],
                        "iteration": 292,
                        "passed_time": 7.910095594,
                        "remaining_time": 5.588361051,
                        "test": [
                          7.309405807
                        ]
                      },
                      {
                        "learn": [
                          7.191809931
                        ],
                        "iteration": 293,
                        "passed_time": 7.934418908,
                        "remaining_time": 5.559490799,
                        "test": [
                          7.3048741
                        ]
                      },
                      {
                        "learn": [
                          7.176013277
                        ],
                        "iteration": 294,
                        "passed_time": 7.960470807,
                        "remaining_time": 5.531852595,
                        "test": [
                          7.29162537
                        ]
                      },
                      {
                        "learn": [
                          7.171244926
                        ],
                        "iteration": 295,
                        "passed_time": 7.988127403,
                        "remaining_time": 5.505331048,
                        "test": [
                          7.28702628
                        ]
                      },
                      {
                        "learn": [
                          7.158885082
                        ],
                        "iteration": 296,
                        "passed_time": 8.013731098,
                        "remaining_time": 5.477398696,
                        "test": [
                          7.27502103
                        ]
                      },
                      {
                        "learn": [
                          7.150432659
                        ],
                        "iteration": 297,
                        "passed_time": 8.038262701,
                        "remaining_time": 5.448755254,
                        "test": [
                          7.2679045
                        ]
                      },
                      {
                        "learn": [
                          7.146154335
                        ],
                        "iteration": 298,
                        "passed_time": 8.063712521,
                        "remaining_time": 5.420756578,
                        "test": [
                          7.263512982
                        ]
                      },
                      {
                        "learn": [
                          7.136072597
                        ],
                        "iteration": 299,
                        "passed_time": 8.089811959,
                        "remaining_time": 5.393207973,
                        "test": [
                          7.253498066
                        ]
                      },
                      {
                        "learn": [
                          7.129548313
                        ],
                        "iteration": 300,
                        "passed_time": 8.113627851,
                        "remaining_time": 5.364159277,
                        "test": [
                          7.247925898
                        ]
                      },
                      {
                        "learn": [
                          7.125264688
                        ],
                        "iteration": 301,
                        "passed_time": 8.14116458,
                        "remaining_time": 5.337584725,
                        "test": [
                          7.243813167
                        ]
                      },
                      {
                        "learn": [
                          7.118372213
                        ],
                        "iteration": 302,
                        "passed_time": 8.166203443,
                        "remaining_time": 5.309379796,
                        "test": [
                          7.237441857
                        ]
                      },
                      {
                        "learn": [
                          7.114690465
                        ],
                        "iteration": 303,
                        "passed_time": 8.189930506,
                        "remaining_time": 5.280349931,
                        "test": [
                          7.234075551
                        ]
                      },
                      {
                        "learn": [
                          7.102806792
                        ],
                        "iteration": 304,
                        "passed_time": 8.215289201,
                        "remaining_time": 5.252398014,
                        "test": [
                          7.221597485
                        ]
                      },
                      {
                        "learn": [
                          7.093672211
                        ],
                        "iteration": 305,
                        "passed_time": 8.242531242,
                        "remaining_time": 5.225657062,
                        "test": [
                          7.21212592
                        ]
                      },
                      {
                        "learn": [
                          7.082078
                        ],
                        "iteration": 306,
                        "passed_time": 8.295431197,
                        "remaining_time": 5.215043065,
                        "test": [
                          7.202248908
                        ]
                      },
                      {
                        "learn": [
                          7.077749523
                        ],
                        "iteration": 307,
                        "passed_time": 8.343920131,
                        "remaining_time": 5.201404757,
                        "test": [
                          7.19909007
                        ]
                      },
                      {
                        "learn": [
                          7.070102339
                        ],
                        "iteration": 308,
                        "passed_time": 8.391724198,
                        "remaining_time": 5.187117546,
                        "test": [
                          7.190745803
                        ]
                      },
                      {
                        "learn": [
                          7.064806546
                        ],
                        "iteration": 309,
                        "passed_time": 8.421467981,
                        "remaining_time": 5.161544892,
                        "test": [
                          7.185606691
                        ]
                      },
                      {
                        "learn": [
                          7.061806078
                        ],
                        "iteration": 310,
                        "passed_time": 8.463908825,
                        "remaining_time": 5.143661633,
                        "test": [
                          7.182990544
                        ]
                      },
                      {
                        "learn": [
                          7.058449491
                        ],
                        "iteration": 311,
                        "passed_time": 8.527086822,
                        "remaining_time": 5.138116418,
                        "test": [
                          7.18010966
                        ]
                      },
                      {
                        "learn": [
                          7.050023711
                        ],
                        "iteration": 312,
                        "passed_time": 8.601269266,
                        "remaining_time": 5.138777485,
                        "test": [
                          7.172767942
                        ]
                      },
                      {
                        "learn": [
                          7.044652215
                        ],
                        "iteration": 313,
                        "passed_time": 8.636775342,
                        "remaining_time": 5.116051636,
                        "test": [
                          7.168608209
                        ]
                      },
                      {
                        "learn": [
                          7.041909109
                        ],
                        "iteration": 314,
                        "passed_time": 8.697968467,
                        "remaining_time": 5.108330687,
                        "test": [
                          7.166009434
                        ]
                      },
                      {
                        "learn": [
                          7.035515588
                        ],
                        "iteration": 315,
                        "passed_time": 8.766761046,
                        "remaining_time": 5.104696305,
                        "test": [
                          7.159662353
                        ]
                      },
                      {
                        "learn": [
                          7.030794077
                        ],
                        "iteration": 316,
                        "passed_time": 8.823727553,
                        "remaining_time": 5.093823792,
                        "test": [
                          7.153972879
                        ]
                      },
                      {
                        "learn": [
                          7.023485574
                        ],
                        "iteration": 317,
                        "passed_time": 8.880644013,
                        "remaining_time": 5.082632737,
                        "test": [
                          7.147446764
                        ]
                      },
                      {
                        "learn": [
                          7.0114571
                        ],
                        "iteration": 318,
                        "passed_time": 8.949528917,
                        "remaining_time": 5.077945874,
                        "test": [
                          7.135538157
                        ]
                      },
                      {
                        "learn": [
                          7.001413849
                        ],
                        "iteration": 319,
                        "passed_time": 9.01051349,
                        "remaining_time": 5.068413838,
                        "test": [
                          7.126943109
                        ]
                      },
                      {
                        "learn": [
                          6.998233629
                        ],
                        "iteration": 320,
                        "passed_time": 9.075323513,
                        "remaining_time": 5.06069442,
                        "test": [
                          7.124121001
                        ]
                      },
                      {
                        "learn": [
                          6.994588343
                        ],
                        "iteration": 321,
                        "passed_time": 9.151671583,
                        "remaining_time": 5.058998577,
                        "test": [
                          7.120583322
                        ]
                      },
                      {
                        "learn": [
                          6.992363788
                        ],
                        "iteration": 322,
                        "passed_time": 9.216412443,
                        "remaining_time": 5.050479883,
                        "test": [
                          7.119045349
                        ]
                      },
                      {
                        "learn": [
                          6.985687784
                        ],
                        "iteration": 323,
                        "passed_time": 9.282362265,
                        "remaining_time": 5.04227086,
                        "test": [
                          7.113083653
                        ]
                      },
                      {
                        "learn": [
                          6.983105356
                        ],
                        "iteration": 324,
                        "passed_time": 9.346186226,
                        "remaining_time": 5.032561814,
                        "test": [
                          7.110069356
                        ]
                      },
                      {
                        "learn": [
                          6.980903442
                        ],
                        "iteration": 325,
                        "passed_time": 9.404243075,
                        "remaining_time": 5.019442623,
                        "test": [
                          7.108384791
                        ]
                      },
                      {
                        "learn": [
                          6.974578964
                        ],
                        "iteration": 326,
                        "passed_time": 9.468474312,
                        "remaining_time": 5.009315156,
                        "test": [
                          7.102551905
                        ]
                      },
                      {
                        "learn": [
                          6.96517612
                        ],
                        "iteration": 327,
                        "passed_time": 9.53664661,
                        "remaining_time": 5.000924442,
                        "test": [
                          7.0925064
                        ]
                      },
                      {
                        "learn": [
                          6.957420289
                        ],
                        "iteration": 328,
                        "passed_time": 9.58280913,
                        "remaining_time": 4.980730581,
                        "test": [
                          7.083473394
                        ]
                      },
                      {
                        "learn": [
                          6.953539491
                        ],
                        "iteration": 329,
                        "passed_time": 9.651945281,
                        "remaining_time": 4.972214236,
                        "test": [
                          7.080537826
                        ]
                      },
                      {
                        "learn": [
                          6.94858057
                        ],
                        "iteration": 330,
                        "passed_time": 9.721390807,
                        "remaining_time": 4.963489566,
                        "test": [
                          7.075372001
                        ]
                      },
                      {
                        "learn": [
                          6.946255653
                        ],
                        "iteration": 331,
                        "passed_time": 9.767884967,
                        "remaining_time": 4.942785164,
                        "test": [
                          7.073253058
                        ]
                      },
                      {
                        "learn": [
                          6.931103682
                        ],
                        "iteration": 332,
                        "passed_time": 9.804841584,
                        "remaining_time": 4.917142776,
                        "test": [
                          7.060666575
                        ]
                      },
                      {
                        "learn": [
                          6.921693911
                        ],
                        "iteration": 333,
                        "passed_time": 9.843084068,
                        "remaining_time": 4.892071722,
                        "test": [
                          7.051624693
                        ]
                      },
                      {
                        "learn": [
                          6.919211556
                        ],
                        "iteration": 334,
                        "passed_time": 9.873632094,
                        "remaining_time": 4.863132225,
                        "test": [
                          7.049329505
                        ]
                      },
                      {
                        "learn": [
                          6.915138681
                        ],
                        "iteration": 335,
                        "passed_time": 9.937869372,
                        "remaining_time": 4.850626717,
                        "test": [
                          7.046212553
                        ]
                      },
                      {
                        "learn": [
                          6.904237213
                        ],
                        "iteration": 336,
                        "passed_time": 10.00167211,
                        "remaining_time": 4.837604017,
                        "test": [
                          7.03499727
                        ]
                      },
                      {
                        "learn": [
                          6.898118689
                        ],
                        "iteration": 337,
                        "passed_time": 10.06836888,
                        "remaining_time": 4.825667925,
                        "test": [
                          7.029884966
                        ]
                      },
                      {
                        "learn": [
                          6.891887171
                        ],
                        "iteration": 338,
                        "passed_time": 10.13575762,
                        "remaining_time": 4.813737397,
                        "test": [
                          7.024443215
                        ]
                      },
                      {
                        "learn": [
                          6.889927145
                        ],
                        "iteration": 339,
                        "passed_time": 10.16571726,
                        "remaining_time": 4.783866944,
                        "test": [
                          7.022643774
                        ]
                      },
                      {
                        "learn": [
                          6.882985216
                        ],
                        "iteration": 340,
                        "passed_time": 10.21739782,
                        "remaining_time": 4.76412391,
                        "test": [
                          7.015410816
                        ]
                      },
                      {
                        "learn": [
                          6.879213105
                        ],
                        "iteration": 341,
                        "passed_time": 10.27801614,
                        "remaining_time": 4.748323247,
                        "test": [
                          7.01225563
                        ]
                      },
                      {
                        "learn": [
                          6.869091448
                        ],
                        "iteration": 342,
                        "passed_time": 10.34189807,
                        "remaining_time": 4.733755093,
                        "test": [
                          7.002230021
                        ]
                      },
                      {
                        "learn": [
                          6.856445179
                        ],
                        "iteration": 343,
                        "passed_time": 10.40046979,
                        "remaining_time": 4.716492116,
                        "test": [
                          6.988014288
                        ]
                      },
                      {
                        "learn": [
                          6.847940397
                        ],
                        "iteration": 344,
                        "passed_time": 10.46924219,
                        "remaining_time": 4.70357258,
                        "test": [
                          6.979443133
                        ]
                      },
                      {
                        "learn": [
                          6.841050413
                        ],
                        "iteration": 345,
                        "passed_time": 10.53909293,
                        "remaining_time": 4.690810149,
                        "test": [
                          6.973485918
                        ]
                      },
                      {
                        "learn": [
                          6.837862524
                        ],
                        "iteration": 346,
                        "passed_time": 10.58883332,
                        "remaining_time": 4.668851577,
                        "test": [
                          6.970425524
                        ]
                      },
                      {
                        "learn": [
                          6.834628556
                        ],
                        "iteration": 347,
                        "passed_time": 10.66585294,
                        "remaining_time": 4.658648412,
                        "test": [
                          6.967325934
                        ]
                      },
                      {
                        "learn": [
                          6.833272962
                        ],
                        "iteration": 348,
                        "passed_time": 10.70486083,
                        "remaining_time": 4.631616002,
                        "test": [
                          6.966884098
                        ]
                      },
                      {
                        "learn": [
                          6.830391374
                        ],
                        "iteration": 349,
                        "passed_time": 10.76670921,
                        "remaining_time": 4.614303945,
                        "test": [
                          6.964074757
                        ]
                      },
                      {
                        "learn": [
                          6.827086149
                        ],
                        "iteration": 350,
                        "passed_time": 10.83637277,
                        "remaining_time": 4.600055679,
                        "test": [
                          6.960825014
                        ]
                      },
                      {
                        "learn": [
                          6.82575368
                        ],
                        "iteration": 351,
                        "passed_time": 10.87971482,
                        "remaining_time": 4.574425547,
                        "test": [
                          6.960025212
                        ]
                      },
                      {
                        "learn": [
                          6.822969661
                        ],
                        "iteration": 352,
                        "passed_time": 10.94381386,
                        "remaining_time": 4.557338915,
                        "test": [
                          6.957186303
                        ]
                      },
                      {
                        "learn": [
                          6.812052156
                        ],
                        "iteration": 353,
                        "passed_time": 10.98646828,
                        "remaining_time": 4.531142283,
                        "test": [
                          6.947701677
                        ]
                      },
                      {
                        "learn": [
                          6.796701871
                        ],
                        "iteration": 354,
                        "passed_time": 11.04811064,
                        "remaining_time": 4.512608573,
                        "test": [
                          6.934592534
                        ]
                      },
                      {
                        "learn": [
                          6.791352495
                        ],
                        "iteration": 355,
                        "passed_time": 11.12139794,
                        "remaining_time": 4.498542988,
                        "test": [
                          6.929773069
                        ]
                      },
                      {
                        "learn": [
                          6.79008736
                        ],
                        "iteration": 356,
                        "passed_time": 11.17549416,
                        "remaining_time": 4.476458446,
                        "test": [
                          6.929217301
                        ]
                      },
                      {
                        "learn": [
                          6.784819176
                        ],
                        "iteration": 357,
                        "passed_time": 11.24083615,
                        "remaining_time": 4.458655678,
                        "test": [
                          6.924624693
                        ]
                      },
                      {
                        "learn": [
                          6.781346353
                        ],
                        "iteration": 358,
                        "passed_time": 11.32399528,
                        "remaining_time": 4.447585891,
                        "test": [
                          6.921476539
                        ]
                      },
                      {
                        "learn": [
                          6.776765399
                        ],
                        "iteration": 359,
                        "passed_time": 11.39460954,
                        "remaining_time": 4.431237045,
                        "test": [
                          6.917250529
                        ]
                      },
                      {
                        "learn": [
                          6.775445021
                        ],
                        "iteration": 360,
                        "passed_time": 11.45339708,
                        "remaining_time": 4.410033778,
                        "test": [
                          6.916775009
                        ]
                      },
                      {
                        "learn": [
                          6.769479366
                        ],
                        "iteration": 361,
                        "passed_time": 11.5277704,
                        "remaining_time": 4.394564406,
                        "test": [
                          6.91153725
                        ]
                      },
                      {
                        "learn": [
                          6.761610136
                        ],
                        "iteration": 362,
                        "passed_time": 11.61864933,
                        "remaining_time": 4.384999884,
                        "test": [
                          6.90346513
                        ]
                      },
                      {
                        "learn": [
                          6.754899661
                        ],
                        "iteration": 363,
                        "passed_time": 11.7291291,
                        "remaining_time": 4.382311972,
                        "test": [
                          6.896511637
                        ]
                      },
                      {
                        "learn": [
                          6.751683075
                        ],
                        "iteration": 364,
                        "passed_time": 11.80860378,
                        "remaining_time": 4.367565781,
                        "test": [
                          6.892539267
                        ]
                      },
                      {
                        "learn": [
                          6.748040136
                        ],
                        "iteration": 365,
                        "passed_time": 11.88249041,
                        "remaining_time": 4.350419987,
                        "test": [
                          6.888544095
                        ]
                      },
                      {
                        "learn": [
                          6.74687896
                        ],
                        "iteration": 366,
                        "passed_time": 11.94028705,
                        "remaining_time": 4.327133998,
                        "test": [
                          6.887998677
                        ]
                      },
                      {
                        "learn": [
                          6.741279366
                        ],
                        "iteration": 367,
                        "passed_time": 11.99893053,
                        "remaining_time": 4.303964212,
                        "test": [
                          6.883048893
                        ]
                      },
                      {
                        "learn": [
                          6.737241146
                        ],
                        "iteration": 368,
                        "passed_time": 12.02464535,
                        "remaining_time": 4.268912033,
                        "test": [
                          6.879353126
                        ]
                      },
                      {
                        "learn": [
                          6.734827773
                        ],
                        "iteration": 369,
                        "passed_time": 12.04831856,
                        "remaining_time": 4.233193007,
                        "test": [
                          6.877171735
                        ]
                      },
                      {
                        "learn": [
                          6.731977111
                        ],
                        "iteration": 370,
                        "passed_time": 12.07267747,
                        "remaining_time": 4.197777341,
                        "test": [
                          6.873286742
                        ]
                      },
                      {
                        "learn": [
                          6.731153117
                        ],
                        "iteration": 371,
                        "passed_time": 12.09534494,
                        "remaining_time": 4.161839119,
                        "test": [
                          6.872739521
                        ]
                      },
                      {
                        "learn": [
                          6.728264617
                        ],
                        "iteration": 372,
                        "passed_time": 12.12171639,
                        "remaining_time": 4.127233195,
                        "test": [
                          6.869185027
                        ]
                      },
                      {
                        "learn": [
                          6.717524734
                        ],
                        "iteration": 373,
                        "passed_time": 12.1509627,
                        "remaining_time": 4.09363984,
                        "test": [
                          6.858959744
                        ]
                      },
                      {
                        "learn": [
                          6.705904313
                        ],
                        "iteration": 374,
                        "passed_time": 12.17630515,
                        "remaining_time": 4.058768384,
                        "test": [
                          6.849126722
                        ]
                      },
                      {
                        "learn": [
                          6.700131953
                        ],
                        "iteration": 375,
                        "passed_time": 12.20606684,
                        "remaining_time": 4.025405022,
                        "test": [
                          6.842445642
                        ]
                      },
                      {
                        "learn": [
                          6.691997889
                        ],
                        "iteration": 376,
                        "passed_time": 12.23382902,
                        "remaining_time": 3.991408407,
                        "test": [
                          6.832916587
                        ]
                      },
                      {
                        "learn": [
                          6.689082039
                        ],
                        "iteration": 377,
                        "passed_time": 12.25751603,
                        "remaining_time": 3.956129512,
                        "test": [
                          6.830389849
                        ]
                      },
                      {
                        "learn": [
                          6.688175037
                        ],
                        "iteration": 378,
                        "passed_time": 12.27862848,
                        "remaining_time": 3.920089832,
                        "test": [
                          6.830148589
                        ]
                      },
                      {
                        "learn": [
                          6.680985594
                        ],
                        "iteration": 379,
                        "passed_time": 12.30445722,
                        "remaining_time": 3.88561807,
                        "test": [
                          6.823171692
                        ]
                      },
                      {
                        "learn": [
                          6.680105851
                        ],
                        "iteration": 380,
                        "passed_time": 12.32507923,
                        "remaining_time": 3.84956543,
                        "test": [
                          6.82257802
                        ]
                      },
                      {
                        "learn": [
                          6.673061456
                        ],
                        "iteration": 381,
                        "passed_time": 12.34933094,
                        "remaining_time": 3.814714792,
                        "test": [
                          6.814850446
                        ]
                      },
                      {
                        "learn": [
                          6.671307261
                        ],
                        "iteration": 382,
                        "passed_time": 12.37536739,
                        "remaining_time": 3.780464712,
                        "test": [
                          6.813210468
                        ]
                      },
                      {
                        "learn": [
                          6.669579125
                        ],
                        "iteration": 383,
                        "passed_time": 12.39825956,
                        "remaining_time": 3.745307576,
                        "test": [
                          6.811582695
                        ]
                      },
                      {
                        "learn": [
                          6.666340346
                        ],
                        "iteration": 384,
                        "passed_time": 12.42434637,
                        "remaining_time": 3.711168396,
                        "test": [
                          6.808547224
                        ]
                      },
                      {
                        "learn": [
                          6.66177553
                        ],
                        "iteration": 385,
                        "passed_time": 12.44910456,
                        "remaining_time": 3.676678549,
                        "test": [
                          6.804200334
                        ]
                      },
                      {
                        "learn": [
                          6.657046572
                        ],
                        "iteration": 386,
                        "passed_time": 12.47481119,
                        "remaining_time": 3.64251593,
                        "test": [
                          6.800225855
                        ]
                      },
                      {
                        "learn": [
                          6.656194192
                        ],
                        "iteration": 387,
                        "passed_time": 12.49582153,
                        "remaining_time": 3.607041267,
                        "test": [
                          6.799471301
                        ]
                      },
                      {
                        "learn": [
                          6.647104248
                        ],
                        "iteration": 388,
                        "passed_time": 12.52198155,
                        "remaining_time": 3.573110416,
                        "test": [
                          6.791560572
                        ]
                      },
                      {
                        "learn": [
                          6.642177351
                        ],
                        "iteration": 389,
                        "passed_time": 12.54661467,
                        "remaining_time": 3.538788754,
                        "test": [
                          6.786593793
                        ]
                      },
                      {
                        "learn": [
                          6.638849677
                        ],
                        "iteration": 390,
                        "passed_time": 12.57088621,
                        "remaining_time": 3.504415848,
                        "test": [
                          6.783489363
                        ]
                      },
                      {
                        "learn": [
                          6.636681971
                        ],
                        "iteration": 391,
                        "passed_time": 12.59645992,
                        "remaining_time": 3.470453243,
                        "test": [
                          6.781448092
                        ]
                      },
                      {
                        "learn": [
                          6.633045475
                        ],
                        "iteration": 392,
                        "passed_time": 12.62349375,
                        "remaining_time": 3.436930867,
                        "test": [
                          6.777973265
                        ]
                      },
                      {
                        "learn": [
                          6.628211091
                        ],
                        "iteration": 393,
                        "passed_time": 12.64751953,
                        "remaining_time": 3.402632158,
                        "test": [
                          6.77367824
                        ]
                      },
                      {
                        "learn": [
                          6.626325312
                        ],
                        "iteration": 394,
                        "passed_time": 12.70091909,
                        "remaining_time": 3.376193683,
                        "test": [
                          6.771635282
                        ]
                      },
                      {
                        "learn": [
                          6.622561021
                        ],
                        "iteration": 395,
                        "passed_time": 12.73798638,
                        "remaining_time": 3.345329755,
                        "test": [
                          6.768040795
                        ]
                      },
                      {
                        "learn": [
                          6.62175726
                        ],
                        "iteration": 396,
                        "passed_time": 12.75963489,
                        "remaining_time": 3.310434241,
                        "test": [
                          6.767566609
                        ]
                      },
                      {
                        "learn": [
                          6.61810342
                        ],
                        "iteration": 397,
                        "passed_time": 12.78399538,
                        "remaining_time": 3.276300324,
                        "test": [
                          6.764460121
                        ]
                      },
                      {
                        "learn": [
                          6.615825471
                        ],
                        "iteration": 398,
                        "passed_time": 12.80966525,
                        "remaining_time": 3.242546843,
                        "test": [
                          6.761645233
                        ]
                      },
                      {
                        "learn": [
                          6.613817591
                        ],
                        "iteration": 399,
                        "passed_time": 12.83421134,
                        "remaining_time": 3.208552836,
                        "test": [
                          6.759532613
                        ]
                      },
                      {
                        "learn": [
                          6.606641506
                        ],
                        "iteration": 400,
                        "passed_time": 12.86053058,
                        "remaining_time": 3.175043709,
                        "test": [
                          6.751061435
                        ]
                      },
                      {
                        "learn": [
                          6.605132829
                        ],
                        "iteration": 401,
                        "passed_time": 12.88441222,
                        "remaining_time": 3.140976113,
                        "test": [
                          6.749511297
                        ]
                      },
                      {
                        "learn": [
                          6.604377499
                        ],
                        "iteration": 402,
                        "passed_time": 12.9052907,
                        "remaining_time": 3.106236224,
                        "test": [
                          6.749315045
                        ]
                      },
                      {
                        "learn": [
                          6.598424864
                        ],
                        "iteration": 403,
                        "passed_time": 12.93114298,
                        "remaining_time": 3.072746847,
                        "test": [
                          6.743533166
                        ]
                      },
                      {
                        "learn": [
                          6.594854694
                        ],
                        "iteration": 404,
                        "passed_time": 12.95732726,
                        "remaining_time": 3.039373061,
                        "test": [
                          6.739948413
                        ]
                      },
                      {
                        "learn": [
                          6.593433257
                        ],
                        "iteration": 405,
                        "passed_time": 12.98108111,
                        "remaining_time": 3.005471982,
                        "test": [
                          6.738396852
                        ]
                      },
                      {
                        "learn": [
                          6.592706147
                        ],
                        "iteration": 406,
                        "passed_time": 13.00188313,
                        "remaining_time": 2.970946269,
                        "test": [
                          6.737828187
                        ]
                      },
                      {
                        "learn": [
                          6.589446554
                        ],
                        "iteration": 407,
                        "passed_time": 13.02606279,
                        "remaining_time": 2.937249454,
                        "test": [
                          6.734424951
                        ]
                      },
                      {
                        "learn": [
                          6.579793
                        ],
                        "iteration": 408,
                        "passed_time": 13.05184453,
                        "remaining_time": 2.903955628,
                        "test": [
                          6.726883674
                        ]
                      },
                      {
                        "learn": [
                          6.57456941
                        ],
                        "iteration": 409,
                        "passed_time": 13.08563374,
                        "remaining_time": 2.872456187,
                        "test": [
                          6.721841429
                        ]
                      },
                      {
                        "learn": [
                          6.573246721
                        ],
                        "iteration": 410,
                        "passed_time": 13.1093653,
                        "remaining_time": 2.838767668,
                        "test": [
                          6.72037894
                        ]
                      },
                      {
                        "learn": [
                          6.572568431
                        ],
                        "iteration": 411,
                        "passed_time": 13.13442107,
                        "remaining_time": 2.805410327,
                        "test": [
                          6.719897139
                        ]
                      },
                      {
                        "learn": [
                          6.5640833
                        ],
                        "iteration": 412,
                        "passed_time": 13.16070516,
                        "remaining_time": 2.772351934,
                        "test": [
                          6.712504592
                        ]
                      },
                      {
                        "learn": [
                          6.562067792
                        ],
                        "iteration": 413,
                        "passed_time": 13.18652228,
                        "remaining_time": 2.739229266,
                        "test": [
                          6.710719983
                        ]
                      },
                      {
                        "learn": [
                          6.558248072
                        ],
                        "iteration": 414,
                        "passed_time": 13.21377063,
                        "remaining_time": 2.706434948,
                        "test": [
                          6.706880191
                        ]
                      },
                      {
                        "learn": [
                          6.557734899
                        ],
                        "iteration": 415,
                        "passed_time": 13.23467809,
                        "remaining_time": 2.672386921,
                        "test": [
                          6.706766011
                        ]
                      },
                      {
                        "learn": [
                          6.550357489
                        ],
                        "iteration": 416,
                        "passed_time": 13.26218515,
                        "remaining_time": 2.639715509,
                        "test": [
                          6.699397134
                        ]
                      },
                      {
                        "learn": [
                          6.546312779
                        ],
                        "iteration": 417,
                        "passed_time": 13.28862204,
                        "remaining_time": 2.606858869,
                        "test": [
                          6.695590941
                        ]
                      },
                      {
                        "learn": [
                          6.54402764
                        ],
                        "iteration": 418,
                        "passed_time": 13.31357206,
                        "remaining_time": 2.573745435,
                        "test": [
                          6.693764216
                        ]
                      },
                      {
                        "learn": [
                          6.533500385
                        ],
                        "iteration": 419,
                        "passed_time": 13.33965439,
                        "remaining_time": 2.540886551,
                        "test": [
                          6.685295574
                        ]
                      },
                      {
                        "learn": [
                          6.528827029
                        ],
                        "iteration": 420,
                        "passed_time": 13.36621913,
                        "remaining_time": 2.508150384,
                        "test": [
                          6.680792483
                        ]
                      },
                      {
                        "learn": [
                          6.527471609
                        ],
                        "iteration": 421,
                        "passed_time": 13.389546,
                        "remaining_time": 2.474844995,
                        "test": [
                          6.679398663
                        ]
                      },
                      {
                        "learn": [
                          6.522106088
                        ],
                        "iteration": 422,
                        "passed_time": 13.41611821,
                        "remaining_time": 2.442177546,
                        "test": [
                          6.674794835
                        ]
                      },
                      {
                        "learn": [
                          6.518479859
                        ],
                        "iteration": 423,
                        "passed_time": 13.442995,
                        "remaining_time": 2.409593443,
                        "test": [
                          6.670832609
                        ]
                      },
                      {
                        "learn": [
                          6.517977522
                        ],
                        "iteration": 424,
                        "passed_time": 13.47036651,
                        "remaining_time": 2.377123501,
                        "test": [
                          6.670503947
                        ]
                      },
                      {
                        "learn": [
                          6.511711299
                        ],
                        "iteration": 425,
                        "passed_time": 13.49553447,
                        "remaining_time": 2.34429472,
                        "test": [
                          6.664633854
                        ]
                      },
                      {
                        "learn": [
                          6.509824233
                        ],
                        "iteration": 426,
                        "passed_time": 13.52320218,
                        "remaining_time": 2.311929178,
                        "test": [
                          6.662855543
                        ]
                      },
                      {
                        "learn": [
                          6.50042007
                        ],
                        "iteration": 427,
                        "passed_time": 13.54877251,
                        "remaining_time": 2.279232759,
                        "test": [
                          6.655118965
                        ]
                      },
                      {
                        "learn": [
                          6.498878688
                        ],
                        "iteration": 428,
                        "passed_time": 13.57164017,
                        "remaining_time": 2.246122266,
                        "test": [
                          6.653843717
                        ]
                      },
                      {
                        "learn": [
                          6.495645959
                        ],
                        "iteration": 429,
                        "passed_time": 13.59667397,
                        "remaining_time": 2.213412042,
                        "test": [
                          6.651121582
                        ]
                      },
                      {
                        "learn": [
                          6.492061119
                        ],
                        "iteration": 430,
                        "passed_time": 13.62272992,
                        "remaining_time": 2.180901078,
                        "test": [
                          6.647800569
                        ]
                      },
                      {
                        "learn": [
                          6.48974568
                        ],
                        "iteration": 431,
                        "passed_time": 13.64781168,
                        "remaining_time": 2.148266654,
                        "test": [
                          6.645596251
                        ]
                      },
                      {
                        "learn": [
                          6.482807861
                        ],
                        "iteration": 432,
                        "passed_time": 13.67321387,
                        "remaining_time": 2.115716695,
                        "test": [
                          6.63803849
                        ]
                      },
                      {
                        "learn": [
                          6.482324559
                        ],
                        "iteration": 433,
                        "passed_time": 13.95087851,
                        "remaining_time": 2.12156217,
                        "test": [
                          6.637739986
                        ]
                      },
                      {
                        "learn": [
                          6.478914287
                        ],
                        "iteration": 434,
                        "passed_time": 14.0051079,
                        "remaining_time": 2.092717272,
                        "test": [
                          6.634536186
                        ]
                      },
                      {
                        "learn": [
                          6.477756846
                        ],
                        "iteration": 435,
                        "passed_time": 14.02659203,
                        "remaining_time": 2.058949289,
                        "test": [
                          6.633384857
                        ]
                      },
                      {
                        "learn": [
                          6.474469608
                        ],
                        "iteration": 436,
                        "passed_time": 14.0522713,
                        "remaining_time": 2.025842315,
                        "test": [
                          6.630687723
                        ]
                      },
                      {
                        "learn": [
                          6.47001828
                        ],
                        "iteration": 437,
                        "passed_time": 14.07820862,
                        "remaining_time": 1.992805786,
                        "test": [
                          6.626579462
                        ]
                      },
                      {
                        "learn": [
                          6.468133905
                        ],
                        "iteration": 438,
                        "passed_time": 14.10429863,
                        "remaining_time": 1.959822817,
                        "test": [
                          6.624242005
                        ]
                      },
                      {
                        "learn": [
                          6.459635666
                        ],
                        "iteration": 439,
                        "passed_time": 14.13093792,
                        "remaining_time": 1.926946081,
                        "test": [
                          6.617372794
                        ]
                      },
                      {
                        "learn": [
                          6.459172528
                        ],
                        "iteration": 440,
                        "passed_time": 14.15397793,
                        "remaining_time": 1.893616095,
                        "test": [
                          6.617079372
                        ]
                      },
                      {
                        "learn": [
                          6.453757881
                        ],
                        "iteration": 441,
                        "passed_time": 14.17883547,
                        "remaining_time": 1.860571171,
                        "test": [
                          6.611749933
                        ]
                      },
                      {
                        "learn": [
                          6.452107448
                        ],
                        "iteration": 442,
                        "passed_time": 14.2027943,
                        "remaining_time": 1.827447574,
                        "test": [
                          6.610114445
                        ]
                      },
                      {
                        "learn": [
                          6.450895857
                        ],
                        "iteration": 443,
                        "passed_time": 14.22596787,
                        "remaining_time": 1.794266218,
                        "test": [
                          6.609002384
                        ]
                      },
                      {
                        "learn": [
                          6.448211592
                        ],
                        "iteration": 444,
                        "passed_time": 14.25090734,
                        "remaining_time": 1.761348098,
                        "test": [
                          6.606777838
                        ]
                      },
                      {
                        "learn": [
                          6.447767371
                        ],
                        "iteration": 445,
                        "passed_time": 14.2723412,
                        "remaining_time": 1.728041312,
                        "test": [
                          6.606512707
                        ]
                      },
                      {
                        "learn": [
                          6.44544422
                        ],
                        "iteration": 446,
                        "passed_time": 14.29876179,
                        "remaining_time": 1.695378915,
                        "test": [
                          6.604170761
                        ]
                      },
                      {
                        "learn": [
                          6.444374546
                        ],
                        "iteration": 447,
                        "passed_time": 14.32686054,
                        "remaining_time": 1.66293917,
                        "test": [
                          6.603207452
                        ]
                      },
                      {
                        "learn": [
                          6.441392438
                        ],
                        "iteration": 448,
                        "passed_time": 14.35207153,
                        "remaining_time": 1.630190752,
                        "test": [
                          6.600155076
                        ]
                      },
                      {
                        "learn": [
                          6.438487293
                        ],
                        "iteration": 449,
                        "passed_time": 14.37714776,
                        "remaining_time": 1.597460862,
                        "test": [
                          6.598027546
                        ]
                      },
                      {
                        "learn": [
                          6.436729674
                        ],
                        "iteration": 450,
                        "passed_time": 14.40135086,
                        "remaining_time": 1.564670049,
                        "test": [
                          6.59600672
                        ]
                      },
                      {
                        "learn": [
                          6.431573457
                        ],
                        "iteration": 451,
                        "passed_time": 14.42801845,
                        "remaining_time": 1.532178951,
                        "test": [
                          6.590846552
                        ]
                      },
                      {
                        "learn": [
                          6.431150138
                        ],
                        "iteration": 452,
                        "passed_time": 14.45313043,
                        "remaining_time": 1.499552163,
                        "test": [
                          6.590754399
                        ]
                      },
                      {
                        "learn": [
                          6.426258414
                        ],
                        "iteration": 453,
                        "passed_time": 14.4786298,
                        "remaining_time": 1.466997733,
                        "test": [
                          6.58598905
                        ]
                      },
                      {
                        "learn": [
                          6.424782446
                        ],
                        "iteration": 454,
                        "passed_time": 14.50133324,
                        "remaining_time": 1.434197793,
                        "test": [
                          6.584705214
                        ]
                      },
                      {
                        "learn": [
                          6.418985311
                        ],
                        "iteration": 455,
                        "passed_time": 14.52948198,
                        "remaining_time": 1.401967559,
                        "test": [
                          6.578545493
                        ]
                      },
                      {
                        "learn": [
                          6.416677665
                        ],
                        "iteration": 456,
                        "passed_time": 14.55391435,
                        "remaining_time": 1.369405508,
                        "test": [
                          6.576047755
                        ]
                      },
                      {
                        "learn": [
                          6.414249659
                        ],
                        "iteration": 457,
                        "passed_time": 14.57728333,
                        "remaining_time": 1.336781441,
                        "test": [
                          6.574138089
                        ]
                      },
                      {
                        "learn": [
                          6.40800739
                        ],
                        "iteration": 458,
                        "passed_time": 14.60854418,
                        "remaining_time": 1.30490264,
                        "test": [
                          6.566785621
                        ]
                      },
                      {
                        "learn": [
                          6.407603432
                        ],
                        "iteration": 459,
                        "passed_time": 14.63080596,
                        "remaining_time": 1.272243997,
                        "test": [
                          6.566699237
                        ]
                      },
                      {
                        "learn": [
                          6.406597278
                        ],
                        "iteration": 460,
                        "passed_time": 14.65385032,
                        "remaining_time": 1.239696665,
                        "test": [
                          6.565822986
                        ]
                      },
                      {
                        "learn": [
                          6.405576952
                        ],
                        "iteration": 461,
                        "passed_time": 14.67862508,
                        "remaining_time": 1.207332798,
                        "test": [
                          6.564982338
                        ]
                      },
                      {
                        "learn": [
                          6.402945298
                        ],
                        "iteration": 462,
                        "passed_time": 14.70407969,
                        "remaining_time": 1.175056044,
                        "test": [
                          6.5630639
                        ]
                      },
                      {
                        "learn": [
                          6.402556195
                        ],
                        "iteration": 463,
                        "passed_time": 14.73749409,
                        "remaining_time": 1.143426266,
                        "test": [
                          6.562819799
                        ]
                      },
                      {
                        "learn": [
                          6.400065464
                        ],
                        "iteration": 464,
                        "passed_time": 14.77223723,
                        "remaining_time": 1.111888824,
                        "test": [
                          6.560601309
                        ]
                      },
                      {
                        "learn": [
                          6.392345597
                        ],
                        "iteration": 465,
                        "passed_time": 14.79800022,
                        "remaining_time": 1.07968242,
                        "test": [
                          6.554410269
                        ]
                      },
                      {
                        "learn": [
                          6.387525686
                        ],
                        "iteration": 466,
                        "passed_time": 14.82402771,
                        "remaining_time": 1.047522301,
                        "test": [
                          6.549427789
                        ]
                      },
                      {
                        "learn": [
                          6.38290406
                        ],
                        "iteration": 467,
                        "passed_time": 14.84906636,
                        "remaining_time": 1.015320777,
                        "test": [
                          6.544473968
                        ]
                      },
                      {
                        "learn": [
                          6.380420958
                        ],
                        "iteration": 468,
                        "passed_time": 14.87457752,
                        "remaining_time": 0.9831810301,
                        "test": [
                          6.541546902
                        ]
                      },
                      {
                        "learn": [
                          6.375853578
                        ],
                        "iteration": 469,
                        "passed_time": 14.90148868,
                        "remaining_time": 0.9511588521,
                        "test": [
                          6.535921745
                        ]
                      },
                      {
                        "learn": [
                          6.374860351
                        ],
                        "iteration": 470,
                        "passed_time": 14.92563761,
                        "remaining_time": 0.918988303,
                        "test": [
                          6.534840195
                        ]
                      },
                      {
                        "learn": [
                          6.374486107
                        ],
                        "iteration": 471,
                        "passed_time": 14.94911305,
                        "remaining_time": 0.886811791,
                        "test": [
                          6.53462199
                        ]
                      },
                      {
                        "learn": [
                          6.370889927
                        ],
                        "iteration": 472,
                        "passed_time": 14.9942332,
                        "remaining_time": 0.8559076037,
                        "test": [
                          6.530692994
                        ]
                      },
                      {
                        "learn": [
                          6.366072874
                        ],
                        "iteration": 473,
                        "passed_time": 15.02765995,
                        "remaining_time": 0.8243020226,
                        "test": [
                          6.525501627
                        ]
                      },
                      {
                        "learn": [
                          6.363980987
                        ],
                        "iteration": 474,
                        "passed_time": 15.05141052,
                        "remaining_time": 0.7921795008,
                        "test": [
                          6.523665069
                        ]
                      },
                      {
                        "learn": [
                          6.358662833
                        ],
                        "iteration": 475,
                        "passed_time": 15.07689983,
                        "remaining_time": 0.7601798234,
                        "test": [
                          6.518725862
                        ]
                      },
                      {
                        "learn": [
                          6.353993135
                        ],
                        "iteration": 476,
                        "passed_time": 15.10242436,
                        "remaining_time": 0.728209141,
                        "test": [
                          6.514184677
                        ]
                      },
                      {
                        "learn": [
                          6.348925492
                        ],
                        "iteration": 477,
                        "passed_time": 15.12791478,
                        "remaining_time": 0.69626386,
                        "test": [
                          6.50984285
                        ]
                      },
                      {
                        "learn": [
                          6.347741734
                        ],
                        "iteration": 478,
                        "passed_time": 15.15411218,
                        "remaining_time": 0.6643765255,
                        "test": [
                          6.508862959
                        ]
                      },
                      {
                        "learn": [
                          6.346024881
                        ],
                        "iteration": 479,
                        "passed_time": 15.17727964,
                        "remaining_time": 0.6323866519,
                        "test": [
                          6.507217308
                        ]
                      },
                      {
                        "learn": [
                          6.341383919
                        ],
                        "iteration": 480,
                        "passed_time": 15.20386473,
                        "remaining_time": 0.6005684614,
                        "test": [
                          6.502539231
                        ]
                      },
                      {
                        "learn": [
                          6.339079094
                        ],
                        "iteration": 481,
                        "passed_time": 15.22913404,
                        "remaining_time": 0.5687228481,
                        "test": [
                          6.500196395
                        ]
                      },
                      {
                        "learn": [
                          6.336686821
                        ],
                        "iteration": 482,
                        "passed_time": 15.25411709,
                        "remaining_time": 0.5368943903,
                        "test": [
                          6.498022908
                        ]
                      },
                      {
                        "learn": [
                          6.33369486
                        ],
                        "iteration": 483,
                        "passed_time": 15.27961411,
                        "remaining_time": 0.5051112102,
                        "test": [
                          6.494944357
                        ]
                      },
                      {
                        "learn": [
                          6.329703353
                        ],
                        "iteration": 484,
                        "passed_time": 15.3077179,
                        "remaining_time": 0.4734345741,
                        "test": [
                          6.4906885
                        ]
                      },
                      {
                        "learn": [
                          6.329347742
                        ],
                        "iteration": 485,
                        "passed_time": 15.32945687,
                        "remaining_time": 0.4415892924,
                        "test": [
                          6.490481521
                        ]
                      },
                      {
                        "learn": [
                          6.32757417
                        ],
                        "iteration": 486,
                        "passed_time": 15.35388391,
                        "remaining_time": 0.4098572706,
                        "test": [
                          6.488464291
                        ]
                      },
                      {
                        "learn": [
                          6.326631787
                        ],
                        "iteration": 487,
                        "passed_time": 15.37913194,
                        "remaining_time": 0.3781753756,
                        "test": [
                          6.487470536
                        ]
                      },
                      {
                        "learn": [
                          6.324730836
                        ],
                        "iteration": 488,
                        "passed_time": 15.40529333,
                        "remaining_time": 0.3465403408,
                        "test": [
                          6.485294979
                        ]
                      },
                      {
                        "learn": [
                          6.323210068
                        ],
                        "iteration": 489,
                        "passed_time": 15.43039171,
                        "remaining_time": 0.3149059533,
                        "test": [
                          6.483813099
                        ]
                      },
                      {
                        "learn": [
                          6.319136614
                        ],
                        "iteration": 490,
                        "passed_time": 15.45927035,
                        "remaining_time": 0.283367481,
                        "test": [
                          6.479892215
                        ]
                      },
                      {
                        "learn": [
                          6.316425937
                        ],
                        "iteration": 491,
                        "passed_time": 15.483892,
                        "remaining_time": 0.2517706017,
                        "test": [
                          6.477356193
                        ]
                      },
                      {
                        "learn": [
                          6.31370238
                        ],
                        "iteration": 492,
                        "passed_time": 15.51089969,
                        "remaining_time": 0.2202358982,
                        "test": [
                          6.474818854
                        ]
                      },
                      {
                        "learn": [
                          6.313359988
                        ],
                        "iteration": 493,
                        "passed_time": 15.53471143,
                        "remaining_time": 0.1886807056,
                        "test": [
                          6.474611593
                        ]
                      },
                      {
                        "learn": [
                          6.310589422
                        ],
                        "iteration": 494,
                        "passed_time": 15.56074224,
                        "remaining_time": 0.1571792146,
                        "test": [
                          6.471389183
                        ]
                      },
                      {
                        "learn": [
                          6.30858049
                        ],
                        "iteration": 495,
                        "passed_time": 15.58612629,
                        "remaining_time": 0.1256945669,
                        "test": [
                          6.469497875
                        ]
                      },
                      {
                        "learn": [
                          6.306039515
                        ],
                        "iteration": 496,
                        "passed_time": 15.61124493,
                        "remaining_time": 0.09423286678,
                        "test": [
                          6.467068058
                        ]
                      },
                      {
                        "learn": [
                          6.30063347
                        ],
                        "iteration": 497,
                        "passed_time": 15.6380926,
                        "remaining_time": 0.06280358476,
                        "test": [
                          6.46223911
                        ]
                      },
                      {
                        "learn": [
                          6.29950312
                        ],
                        "iteration": 498,
                        "passed_time": 15.66138098,
                        "remaining_time": 0.03138553303,
                        "test": [
                          6.461050852
                        ]
                      },
                      {
                        "learn": [
                          6.297312475
                        ],
                        "iteration": 499,
                        "passed_time": 15.68912419,
                        "remaining_time": 0,
                        "test": [
                          6.459477221
                        ]
                      }
                    ],
                    "meta": {
                      "test_sets": [
                        "test"
                      ],
                      "test_metrics": [
                        {
                          "best_value": "Min",
                          "name": "RMSE"
                        }
                      ],
                      "learn_metrics": [
                        {
                          "best_value": "Min",
                          "name": "RMSE"
                        }
                      ],
                      "launch_mode": "Train",
                      "parameters": "",
                      "iteration_count": 500,
                      "learn_sets": [
                        "learn"
                      ],
                      "name": "experiment"
                    }
                  }
                }
              }
            },
            "layout": "IPY_MODEL_7a892b84e2f44caf9f4354aec8884a15"
          }
        }
      }
    }
  },
  "cells": [
    {
      "cell_type": "markdown",
      "metadata": {
        "id": "view-in-github",
        "colab_type": "text"
      },
      "source": [
        "<a href=\"https://colab.research.google.com/github/Ilian10Janopullo/Machine-Learning-Project/blob/main/Copy_of_UnejsiML.ipynb\" target=\"_parent\"><img src=\"https://colab.research.google.com/assets/colab-badge.svg\" alt=\"Open In Colab\"/></a>"
      ]
    },
    {
      "cell_type": "markdown",
      "source": [
        "## Lasso Regression"
      ],
      "metadata": {
        "id": "P_rWeBHUz_IG"
      }
    },
    {
      "cell_type": "code",
      "execution_count": null,
      "metadata": {
        "colab": {
          "base_uri": "https://localhost:8080/"
        },
        "id": "kWBMvMU3roik",
        "outputId": "f4ec8ce3-6277-4ae5-c536-8f35c6ca9998"
      },
      "outputs": [
        {
          "output_type": "stream",
          "name": "stdout",
          "text": [
            "Fitting 3 folds for each of 10 candidates, totalling 30 fits\n"
          ]
        },
        {
          "output_type": "stream",
          "name": "stderr",
          "text": [
            "/usr/local/lib/python3.11/dist-packages/sklearn/linear_model/_coordinate_descent.py:695: ConvergenceWarning: Objective did not converge. You might want to increase the number of iterations, check the scale of the features or consider increasing regularisation. Duality gap: 4.465e+06, tolerance: 4.480e+04\n",
            "  model = cd_fast.enet_coordinate_descent(\n",
            "/usr/local/lib/python3.11/dist-packages/sklearn/linear_model/_coordinate_descent.py:695: ConvergenceWarning: Objective did not converge. You might want to increase the number of iterations, check the scale of the features or consider increasing regularisation. Duality gap: 4.381e+06, tolerance: 4.457e+04\n",
            "  model = cd_fast.enet_coordinate_descent(\n",
            "/usr/local/lib/python3.11/dist-packages/sklearn/linear_model/_coordinate_descent.py:695: ConvergenceWarning: Objective did not converge. You might want to increase the number of iterations, check the scale of the features or consider increasing regularisation. Duality gap: 4.433e+06, tolerance: 4.457e+04\n",
            "  model = cd_fast.enet_coordinate_descent(\n",
            "/usr/local/lib/python3.11/dist-packages/sklearn/linear_model/_coordinate_descent.py:695: ConvergenceWarning: Objective did not converge. You might want to increase the number of iterations, check the scale of the features or consider increasing regularisation. Duality gap: 4.777e+06, tolerance: 4.480e+04\n",
            "  model = cd_fast.enet_coordinate_descent(\n",
            "/usr/local/lib/python3.11/dist-packages/sklearn/linear_model/_coordinate_descent.py:695: ConvergenceWarning: Objective did not converge. You might want to increase the number of iterations, check the scale of the features or consider increasing regularisation. Duality gap: 3.823e+06, tolerance: 4.457e+04\n",
            "  model = cd_fast.enet_coordinate_descent(\n",
            "/usr/local/lib/python3.11/dist-packages/sklearn/linear_model/_coordinate_descent.py:695: ConvergenceWarning: Objective did not converge. You might want to increase the number of iterations, check the scale of the features or consider increasing regularisation. Duality gap: 5.282e+06, tolerance: 4.457e+04\n",
            "  model = cd_fast.enet_coordinate_descent(\n",
            "/usr/local/lib/python3.11/dist-packages/sklearn/linear_model/_coordinate_descent.py:695: ConvergenceWarning: Objective did not converge. You might want to increase the number of iterations, check the scale of the features or consider increasing regularisation. Duality gap: 1.075e+06, tolerance: 4.480e+04\n",
            "  model = cd_fast.enet_coordinate_descent(\n",
            "/usr/local/lib/python3.11/dist-packages/sklearn/linear_model/_coordinate_descent.py:695: ConvergenceWarning: Objective did not converge. You might want to increase the number of iterations, check the scale of the features or consider increasing regularisation. Duality gap: 5.607e+05, tolerance: 4.457e+04\n",
            "  model = cd_fast.enet_coordinate_descent(\n",
            "/usr/local/lib/python3.11/dist-packages/sklearn/linear_model/_coordinate_descent.py:695: ConvergenceWarning: Objective did not converge. You might want to increase the number of iterations, check the scale of the features or consider increasing regularisation. Duality gap: 7.741e+06, tolerance: 6.697e+04\n",
            "  model = cd_fast.enet_coordinate_descent(\n"
          ]
        },
        {
          "output_type": "stream",
          "name": "stdout",
          "text": [
            "\n",
            "Best parameters: {'lasso__alpha': 0.001, 'lasso__selection': 'random'}\n",
            "\n",
            "Lasso Performance:\n",
            "RMSE: 30.50 km\n",
            "MAE: 17.73 km\n",
            "R²: 0.9483\n",
            "\n",
            "Model saved as 'lasso_model.pkl'\n"
          ]
        }
      ],
      "source": [
        "#  Lasso Regression\n",
        "import pandas as pd\n",
        "import numpy as np\n",
        "from sklearn.linear_model import Lasso\n",
        "from sklearn.model_selection import train_test_split, GridSearchCV\n",
        "from sklearn.metrics import mean_squared_error, mean_absolute_error, r2_score\n",
        "from sklearn.preprocessing import StandardScaler\n",
        "from sklearn.pipeline import make_pipeline\n",
        "from sklearn.compose import ColumnTransformer\n",
        "from sklearn.preprocessing import OneHotEncoder\n",
        "import matplotlib.pyplot as plt\n",
        "import joblib\n",
        "\n",
        "# Load data with explicit dtype specification\n",
        "df = pd.read_csv('/content/processed_ev_data (1).csv', low_memory=False)\n",
        "\n",
        "# Separate numeric and categorical features\n",
        "numeric_features = df.select_dtypes(include=['int64', 'float64']).columns.drop('Electric Range (km)')\n",
        "categorical_features = df.select_dtypes(include=['object', 'bool']).columns\n",
        "\n",
        "# Create preprocessing pipeline\n",
        "preprocessor = ColumnTransformer(\n",
        "    transformers=[\n",
        "        ('num', StandardScaler(), numeric_features),\n",
        "        ('cat', OneHotEncoder(handle_unknown='ignore'), categorical_features)\n",
        "    ])\n",
        "\n",
        "# Full pipeline with Lasso\n",
        "lasso_pipe = make_pipeline(\n",
        "    preprocessor,\n",
        "    Lasso(max_iter=10000, random_state=42)\n",
        ")\n",
        "\n",
        "# Train-test split\n",
        "X = df.drop(columns=['Electric Range (km)'])\n",
        "y = df['Electric Range (km)']\n",
        "X_train, X_test, y_train, y_test = train_test_split(X, y, test_size=0.2, random_state=42)\n",
        "\n",
        "# Parameter grid\n",
        "param_grid = {\n",
        "    'lasso__alpha': [0.001, 0.01, 0.1, 1, 10],\n",
        "    'lasso__selection': ['cyclic', 'random']\n",
        "}\n",
        "\n",
        "# Grid search\n",
        "lasso_grid = GridSearchCV(\n",
        "    lasso_pipe,\n",
        "    param_grid,\n",
        "    cv=3,\n",
        "    scoring='neg_root_mean_squared_error',\n",
        "    verbose=1\n",
        ")\n",
        "\n",
        "lasso_grid.fit(X_train, y_train)\n",
        "\n",
        "# Best model\n",
        "best_lasso = lasso_grid.best_estimator_\n",
        "print(f\"\\nBest parameters: {lasso_grid.best_params_}\")\n",
        "\n",
        "# Evaluation\n",
        "y_pred = best_lasso.predict(X_test)\n",
        "\n",
        "print(\"\\nLasso Performance:\")\n",
        "print(f\"RMSE: {np.sqrt(mean_squared_error(y_test, y_pred)):.2f} km\")\n",
        "print(f\"MAE: {mean_absolute_error(y_test, y_pred):.2f} km\")\n",
        "print(f\"R²: {r2_score(y_test, y_pred):.4f}\")\n",
        "\n",
        "# Save model\n",
        "joblib.dump(best_lasso, 'lasso_model.pkl')\n",
        "print(\"\\nModel saved as 'lasso_model.pkl'\")"
      ]
    },
    {
      "cell_type": "code",
      "source": [
        "# Prediction vs Actual Plot\n",
        "plt.figure(figsize=(8, 6))\n",
        "plt.scatter(y_test, y_pred, alpha=0.6, color='navy')\n",
        "plt.plot([y_test.min(), y_test.max()], [y_test.min(), y_test.max()], 'r--')\n",
        "plt.xlabel('Actual Electric Range (km)')\n",
        "plt.ylabel('Predicted Electric Range (km)')\n",
        "plt.title('Lasso: Predicted vs Actual Electric Range')\n",
        "plt.grid(True)\n",
        "plt.tight_layout()\n",
        "plt.show()\n"
      ],
      "metadata": {
        "colab": {
          "base_uri": "https://localhost:8080/",
          "height": 607
        },
        "id": "ERBVZJaUyUd1",
        "outputId": "8c4e4dc3-5730-4358-b769-fb6c309e8677"
      },
      "execution_count": null,
      "outputs": [
        {
          "output_type": "display_data",
          "data": {
            "text/plain": [
              "<Figure size 800x600 with 1 Axes>"
            ],
            "image/png": "[encoded data removed]"
          },
          "metadata": {}
        }
      ]
    },
    {
      "cell_type": "code",
      "source": [
        "import seaborn as sns\n",
        "\n",
        "# Histogram of Residuals\n",
        "plt.figure(figsize=(8, 6))\n",
        "sns.histplot(residuals, kde=True, color='orange', bins=30)\n",
        "plt.axvline(0, color='black', linestyle='--')\n",
        "plt.xlabel('Residuals')\n",
        "plt.title('Lasso: Distribution of Residuals')\n",
        "plt.tight_layout()\n",
        "plt.show()\n"
      ],
      "metadata": {
        "colab": {
          "base_uri": "https://localhost:8080/",
          "height": 607
        },
        "id": "9m2T8-BKyYjn",
        "outputId": "31402286-2ec8-447e-9f89-e2e33205c6e0"
      },
      "execution_count": null,
      "outputs": [
        {
          "output_type": "display_data",
          "data": {
            "text/plain": [
              "<Figure size 800x600 with 1 Axes>"
            ],
            "image/png": "[encoded data removed]"
          },
          "metadata": {}
        }
      ]
    },
    {
      "cell_type": "code",
      "source": [
        "# Cell 1 - Clean Installation (Updated for current Colab)\n",
        "!pip uninstall -y numpy catboost  # Clean existing installations\n",
        "!pip install numpy==1.26.4  # Newer version that works with current Colab\n",
        "!pip install catboost==1.2.8  # Latest stable version\n",
        "!pip install scikit-learn pandas matplotlib seaborn joblib\n",
        "\n",
        "# Restart the runtime after installation\n",
        "import os\n",
        "os.kill(os.getpid(), 9)\n",
        "# Cell 1 - Install Required Packages\n",
        "!pip install catboost scikit-learn pandas numpy matplotlib --quiet\n",
        "print(\"Packages installed successfully!\")"
      ],
      "metadata": {
        "colab": {
          "base_uri": "https://localhost:8080/"
        },
        "collapsed": true,
        "id": "N0nRQlvN8QES",
        "outputId": "9b5e6868-edcd-4620-fb34-a96340b0d173"
      },
      "execution_count": null,
      "outputs": [
        {
          "output_type": "stream",
          "name": "stdout",
          "text": [
            "Found existing installation: numpy 2.0.2\n",
            "Uninstalling numpy-2.0.2:\n",
            "  Successfully uninstalled numpy-2.0.2\n",
            "\u001b[33mWARNING: Skipping catboost as it is not installed.\u001b[0m\u001b[33m\n",
            "\u001b[0mCollecting numpy==1.26.4\n",
            "  Downloading numpy-1.26.4-cp311-cp311-manylinux_2_17_x86_64.manylinux2014_x86_64.whl.metadata (61 kB)\n",
            "\u001b[2K     \u001b[90m━━━━━━━━━━━━━━━━━━━━━━━━━━━━━━━━━━━━━━━━\u001b[0m \u001b[32m61.0/61.0 kB\u001b[0m \u001b[31m2.7 MB/s\u001b[0m eta \u001b[36m0:00:00\u001b[0m\n",
            "\u001b[?25hDownloading numpy-1.26.4-cp311-cp311-manylinux_2_17_x86_64.manylinux2014_x86_64.whl (18.3 MB)\n",
            "\u001b[2K   \u001b[90m━━━━━━━━━━━━━━━━━━━━━━━━━━━━━━━━━━━━━━━━\u001b[0m \u001b[32m18.3/18.3 MB\u001b[0m \u001b[31m64.4 MB/s\u001b[0m eta \u001b[36m0:00:00\u001b[0m\n",
            "\u001b[?25hInstalling collected packages: numpy\n",
            "\u001b[31mERROR: pip's dependency resolver does not currently take into account all the packages that are installed. This behaviour is the source of the following dependency conflicts.\n",
            "thinc 8.3.6 requires numpy<3.0.0,>=2.0.0, but you have numpy 1.26.4 which is incompatible.\u001b[0m\u001b[31m\n",
            "\u001b[0mSuccessfully installed numpy-1.26.4\n",
            "Collecting catboost==1.2.8\n",
            "  Downloading catboost-1.2.8-cp311-cp311-manylinux2014_x86_64.whl.metadata (1.2 kB)\n",
            "Requirement already satisfied: graphviz in /usr/local/lib/python3.11/dist-packages (from catboost==1.2.8) (0.20.3)\n",
            "Requirement already satisfied: matplotlib in /usr/local/lib/python3.11/dist-packages (from catboost==1.2.8) (3.10.0)\n",
            "Requirement already satisfied: numpy<3.0,>=1.16.0 in /usr/local/lib/python3.11/dist-packages (from catboost==1.2.8) (1.26.4)\n",
            "Requirement already satisfied: pandas>=0.24 in /usr/local/lib/python3.11/dist-packages (from catboost==1.2.8) (2.2.2)\n",
            "Requirement already satisfied: scipy in /usr/local/lib/python3.11/dist-packages (from catboost==1.2.8) (1.15.3)\n",
            "Requirement already satisfied: plotly in /usr/local/lib/python3.11/dist-packages (from catboost==1.2.8) (5.24.1)\n",
            "Requirement already satisfied: six in /usr/local/lib/python3.11/dist-packages (from catboost==1.2.8) (1.17.0)\n",
            "Requirement already satisfied: python-dateutil>=2.8.2 in /usr/local/lib/python3.11/dist-packages (from pandas>=0.24->catboost==1.2.8) (2.9.0.post0)\n",
            "Requirement already satisfied: pytz>=2020.1 in /usr/local/lib/python3.11/dist-packages (from pandas>=0.24->catboost==1.2.8) (2025.2)\n",
            "Requirement already satisfied: tzdata>=2022.7 in /usr/local/lib/python3.11/dist-packages (from pandas>=0.24->catboost==1.2.8) (2025.2)\n",
            "Requirement already satisfied: contourpy>=1.0.1 in /usr/local/lib/python3.11/dist-packages (from matplotlib->catboost==1.2.8) (1.3.2)\n",
            "Requirement already satisfied: cycler>=0.10 in /usr/local/lib/python3.11/dist-packages (from matplotlib->catboost==1.2.8) (0.12.1)\n",
            "Requirement already satisfied: fonttools>=4.22.0 in /usr/local/lib/python3.11/dist-packages (from matplotlib->catboost==1.2.8) (4.58.0)\n",
            "Requirement already satisfied: kiwisolver>=1.3.1 in /usr/local/lib/python3.11/dist-packages (from matplotlib->catboost==1.2.8) (1.4.8)\n",
            "Requirement already satisfied: packaging>=20.0 in /usr/local/lib/python3.11/dist-packages (from matplotlib->catboost==1.2.8) (24.2)\n",
            "Requirement already satisfied: pillow>=8 in /usr/local/lib/python3.11/dist-packages (from matplotlib->catboost==1.2.8) (11.2.1)\n",
            "Requirement already satisfied: pyparsing>=2.3.1 in /usr/local/lib/python3.11/dist-packages (from matplotlib->catboost==1.2.8) (3.2.3)\n",
            "Requirement already satisfied: tenacity>=6.2.0 in /usr/local/lib/python3.11/dist-packages (from plotly->catboost==1.2.8) (9.1.2)\n",
            "Downloading catboost-1.2.8-cp311-cp311-manylinux2014_x86_64.whl (99.2 MB)\n",
            "\u001b[2K   \u001b[90m━━━━━━━━━━━━━━━━━━━━━━━━━━━━━━━━━━━━━━━━\u001b[0m \u001b[32m99.2/99.2 MB\u001b[0m \u001b[31m8.3 MB/s\u001b[0m eta \u001b[36m0:00:00\u001b[0m\n",
            "\u001b[?25hInstalling collected packages: catboost\n",
            "Successfully installed catboost-1.2.8\n",
            "Requirement already satisfied: scikit-learn in /usr/local/lib/python3.11/dist-packages (1.6.1)\n",
            "Requirement already satisfied: pandas in /usr/local/lib/python3.11/dist-packages (2.2.2)\n",
            "Requirement already satisfied: matplotlib in /usr/local/lib/python3.11/dist-packages (3.10.0)\n",
            "Requirement already satisfied: seaborn in /usr/local/lib/python3.11/dist-packages (0.13.2)\n",
            "Requirement already satisfied: joblib in /usr/local/lib/python3.11/dist-packages (1.5.0)\n",
            "Requirement already satisfied: numpy>=1.19.5 in /usr/local/lib/python3.11/dist-packages (from scikit-learn) (1.26.4)\n",
            "Requirement already satisfied: scipy>=1.6.0 in /usr/local/lib/python3.11/dist-packages (from scikit-learn) (1.15.3)\n",
            "Requirement already satisfied: threadpoolctl>=3.1.0 in /usr/local/lib/python3.11/dist-packages (from scikit-learn) (3.6.0)\n",
            "Requirement already satisfied: python-dateutil>=2.8.2 in /usr/local/lib/python3.11/dist-packages (from pandas) (2.9.0.post0)\n",
            "Requirement already satisfied: pytz>=2020.1 in /usr/local/lib/python3.11/dist-packages (from pandas) (2025.2)\n",
            "Requirement already satisfied: tzdata>=2022.7 in /usr/local/lib/python3.11/dist-packages (from pandas) (2025.2)\n",
            "Requirement already satisfied: contourpy>=1.0.1 in /usr/local/lib/python3.11/dist-packages (from matplotlib) (1.3.2)\n",
            "Requirement already satisfied: cycler>=0.10 in /usr/local/lib/python3.11/dist-packages (from matplotlib) (0.12.1)\n",
            "Requirement already satisfied: fonttools>=4.22.0 in /usr/local/lib/python3.11/dist-packages (from matplotlib) (4.58.0)\n",
            "Requirement already satisfied: kiwisolver>=1.3.1 in /usr/local/lib/python3.11/dist-packages (from matplotlib) (1.4.8)\n",
            "Requirement already satisfied: packaging>=20.0 in /usr/local/lib/python3.11/dist-packages (from matplotlib) (24.2)\n",
            "Requirement already satisfied: pillow>=8 in /usr/local/lib/python3.11/dist-packages (from matplotlib) (11.2.1)\n",
            "Requirement already satisfied: pyparsing>=2.3.1 in /usr/local/lib/python3.11/dist-packages (from matplotlib) (3.2.3)\n",
            "Requirement already satisfied: six>=1.5 in /usr/local/lib/python3.11/dist-packages (from python-dateutil>=2.8.2->pandas) (1.17.0)\n"
          ]
        }
      ]
    },
    {
      "cell_type": "code",
      "source": [
        "import catboost\n",
        "import sklearn\n",
        "import numpy as np\n",
        "print(f\"CatBoost version: {catboost.__version__}\")\n",
        "print(f\"Scikit-learn version: {sklearn.__version__}\")\n",
        "print(f\"NumPy version: {np.__version__}\")"
      ],
      "metadata": {
        "colab": {
          "base_uri": "https://localhost:8080/"
        },
        "collapsed": true,
        "id": "beyeHWtUoLSM",
        "outputId": "dd9c2936-4574-4360-8c1d-efc1212fce2e"
      },
      "execution_count": null,
      "outputs": [
        {
          "output_type": "stream",
          "name": "stdout",
          "text": [
            "CatBoost version: 1.2.8\n",
            "Scikit-learn version: 1.6.1\n",
            "NumPy version: 1.26.4\n"
          ]
        }
      ]
    },
    {
      "cell_type": "markdown",
      "source": [
        "## CatBoost"
      ],
      "metadata": {
        "id": "3Awn1eLI0GO3"
      }
    },
    {
      "cell_type": "code",
      "source": [
        "import pandas as pd\n",
        "import numpy as np\n",
        "import os\n",
        "from catboost import CatBoostRegressor, Pool\n",
        "from sklearn.model_selection import train_test_split\n",
        "from sklearn.metrics import mean_squared_error, mean_absolute_error, r2_score\n",
        "import matplotlib.pyplot as plt\n",
        "\n",
        "# Load and prepare data\n",
        "data_path = '/content/processed_ev_data (1).csv'  # Update this path if needed\n",
        "df = pd.read_csv(data_path, low_memory=False)\n",
        "\n",
        "# Separate features and target\n",
        "X = df.drop(columns=['Electric Range (km)'])\n",
        "y = df['Electric Range (km)']\n",
        "\n",
        "# Identify categorical features (object or bool types)\n",
        "cat_features = list(X.select_dtypes(include=['object', 'bool']).columns)\n",
        "\n",
        "# Handle missing values and ensure categorical columns are strings\n",
        "for col in cat_features:\n",
        "    X[col] = X[col].fillna('MISSING').astype(str)\n",
        "\n",
        "# Train-test split\n",
        "X_train, X_test, y_train, y_test = train_test_split(X, y, test_size=0.2, random_state=42)\n",
        "\n",
        "# Initialize CatBoost Regressor\n",
        "model = CatBoostRegressor(\n",
        "    iterations=500,\n",
        "    learning_rate=0.05,\n",
        "    depth=6,\n",
        "    l2_leaf_reg=3,\n",
        "    random_seed=42,\n",
        "    verbose=50,\n",
        "    cat_features=cat_features,\n",
        "    task_type='CPU'\n",
        ")\n",
        "\n",
        "# Fit model with early stopping\n",
        "model.fit(\n",
        "    X_train, y_train,\n",
        "    eval_set=(X_test, y_test),\n",
        "    early_stopping_rounds=50,\n",
        "    plot=True\n",
        ")\n",
        "\n",
        "# Predictions and evaluation\n",
        "y_pred = model.predict(X_test)\n",
        "print(\"\\nCatBoost Performance:\")\n",
        "print(f\"RMSE: {np.sqrt(mean_squared_error(y_test, y_pred)):.2f} km\")\n",
        "print(f\"MAE: {mean_absolute_error(y_test, y_pred):.2f} km\")\n",
        "print(f\"R²: {r2_score(y_test, y_pred):.4f}\")\n",
        "\n",
        "# Plot feature importance\n",
        "importances = model.get_feature_importance(Pool(X_train, label=y_train, cat_features=cat_features))\n",
        "feature_names = X.columns\n",
        "\n",
        "# plt.figure(figsize=(12, 8))\n",
        "# plt.barh(feature_names, importances)\n",
        "# plt.xlabel('Importance')\n",
        "# plt.title('Feature Importance')\n",
        "# plt.gca().invert_yaxis()\n",
        "# plt.tight_layout()\n",
        "# plt.show()\n",
        "\n",
        "# Save the trained model\n",
        "model.save_model('catboost_model.cbm')\n"
      ],
      "metadata": {
        "colab": {
          "base_uri": "https://localhost:8080/",
          "height": 364,
          "referenced_widgets": [
            "b2f2499e9bae43dfab71f56fbd8286f6"
          ]
        },
        "id": "YgTs4daPvpB5",
        "outputId": "58884a79-1324-4e37-92e5-06f900baf8fb"
      },
      "execution_count": null,
      "outputs": [
        {
          "output_type": "display_data",
          "data": {
            "text/plain": [
              "MetricVisualizer(layout=Layout(align_self='stretch', height='500px'))"
            ],
            "application/vnd.jupyter.widget-view+json": {
              "version_major": 2,
              "version_minor": 0,
              "model_id": "b2f2499e9bae43dfab71f56fbd8286f6"
            }
          },
          "metadata": {}
        },
        {
          "output_type": "stream",
          "name": "stdout",
          "text": [
            "0:\tlearn: 127.7244821\ttest: 128.3790476\tbest: 128.3790476 (0)\ttotal: 46.1ms\tremaining: 23s\n",
            "50:\tlearn: 18.8253585\ttest: 18.5635125\tbest: 18.5635125 (50)\ttotal: 1.5s\tremaining: 13.2s\n",
            "100:\tlearn: 11.7650846\ttest: 11.6243346\tbest: 11.6243346 (100)\ttotal: 2.84s\tremaining: 11.2s\n",
            "150:\tlearn: 9.6571732\ttest: 9.6483624\tbest: 9.6483624 (150)\ttotal: 4.11s\tremaining: 9.51s\n",
            "200:\tlearn: 8.4926659\ttest: 8.5386072\tbest: 8.5386072 (200)\ttotal: 5.43s\tremaining: 8.08s\n",
            "250:\tlearn: 7.6360775\ttest: 7.7278782\tbest: 7.7278782 (250)\ttotal: 6.8s\tremaining: 6.74s\n",
            "300:\tlearn: 7.1295483\ttest: 7.2479259\tbest: 7.2479259 (300)\ttotal: 8.11s\tremaining: 5.36s\n",
            "350:\tlearn: 6.8270861\ttest: 6.9608250\tbest: 6.9608250 (350)\ttotal: 10.8s\tremaining: 4.6s\n",
            "400:\tlearn: 6.6066415\ttest: 6.7510614\tbest: 6.7510614 (400)\ttotal: 12.9s\tremaining: 3.17s\n",
            "450:\tlearn: 6.4367297\ttest: 6.5960067\tbest: 6.5960067 (450)\ttotal: 14.4s\tremaining: 1.56s\n",
            "499:\tlearn: 6.2973125\ttest: 6.4594772\tbest: 6.4594772 (499)\ttotal: 15.7s\tremaining: 0us\n",
            "\n",
            "bestTest = 6.459477221\n",
            "bestIteration = 499\n",
            "\n",
            "\n",
            "CatBoost Performance:\n",
            "RMSE: 6.46 km\n",
            "MAE: 1.94 km\n",
            "R²: 0.9977\n"
          ]
        }
      ]
    },
    {
      "cell_type": "code",
      "source": [
        "# Prediction vs Actual Plot\n",
        "plt.figure(figsize=(8, 6))\n",
        "plt.scatter(y_test, y_pred, alpha=0.6, color='teal')\n",
        "plt.plot([y_test.min(), y_test.max()], [y_test.min(), y_test.max()], 'r--')  # Perfect line\n",
        "plt.xlabel('Actual Electric Range (km)')\n",
        "plt.ylabel('Predicted Electric Range (km)')\n",
        "plt.title('Predicted vs. Actual Electric Range \"Catboost\" ')\n",
        "plt.grid(True)\n",
        "plt.tight_layout()\n",
        "plt.show()\n"
      ],
      "metadata": {
        "colab": {
          "base_uri": "https://localhost:8080/",
          "height": 607
        },
        "id": "TKc4Wsc9x2US",
        "outputId": "3a1c53dc-6b31-4634-d9d1-f9f0b49f73c3"
      },
      "execution_count": null,
      "outputs": [
        {
          "output_type": "display_data",
          "data": {
            "text/plain": [
              "<Figure size 800x600 with 1 Axes>"
            ],
            "image/png": "[encoded data removed]"
          },
          "metadata": {}
        }
      ]
    },
    {
      "cell_type": "code",
      "source": [
        "# Residual Plot\n",
        "residuals = y_test - y_pred\n",
        "\n",
        "plt.figure(figsize=(8, 6))\n",
        "plt.scatter(y_pred, residuals, alpha=0.6, color='purple')\n",
        "plt.axhline(0, color='red', linestyle='--')\n",
        "plt.xlabel('Predicted Electric Range (km)')\n",
        "plt.ylabel('Residuals (Actual - Predicted)')\n",
        "plt.title('Residuals vs. Predicted Values')\n",
        "plt.grid(True)\n",
        "plt.tight_layout()\n",
        "plt.show()\n"
      ],
      "metadata": {
        "colab": {
          "base_uri": "https://localhost:8080/",
          "height": 607
        },
        "id": "07BJo1_OyJuh",
        "outputId": "8e6f538e-5c14-4817-b28f-0e5b54cc39f3"
      },
      "execution_count": null,
      "outputs": [
        {
          "output_type": "display_data",
          "data": {
            "text/plain": [
              "<Figure size 800x600 with 1 Axes>"
            ],
            "image/png": "[encoded data removed]"
          },
          "metadata": {}
        }
      ]
    },
    {
      "cell_type": "code",
      "source": [
        "# Histogram of Residuals\n",
        "import seaborn as sns\n",
        "\n",
        "plt.figure(figsize=(8, 6))\n",
        "sns.histplot(residuals, kde=True, color='coral', bins=30)\n",
        "plt.axvline(0, color='black', linestyle='--')\n",
        "plt.xlabel('Residuals')\n",
        "plt.title('Distribution of Residuals')\n",
        "plt.tight_layout()\n",
        "plt.show()\n"
      ],
      "metadata": {
        "colab": {
          "base_uri": "https://localhost:8080/",
          "height": 607
        },
        "id": "yZFjpj8TyNe5",
        "outputId": "fc022d6a-7884-4395-9cea-9dd08eb8f0dc"
      },
      "execution_count": null,
      "outputs": [
        {
          "output_type": "display_data",
          "data": {
            "text/plain": [
              "<Figure size 800x600 with 1 Axes>"
            ],
            "image/png": "[encoded data removed]"
          },
          "metadata": {}
        }
      ]
    }
  ]
}